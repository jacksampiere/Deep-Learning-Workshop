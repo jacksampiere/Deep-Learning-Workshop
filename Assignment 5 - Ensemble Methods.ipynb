{
 "cells": [
  {
   "cell_type": "markdown",
   "metadata": {},
   "source": [
    "Please describe your solution in the cell below."
   ]
  },
  {
   "cell_type": "markdown",
   "metadata": {},
   "source": [
    "# Solution description\n",
    "**Overview:** My initial idea was to use both a transfer learning approach and to build my own CNN ensemble and see which performed better. However, I realized that many of the pre-trained models with which I planned to implement transfer learning tended to require some minimum resolution that was too high for the FashionNet images. Because of this, I stuck to making my own CNN ensemble. <br>\n",
    "**EDA:** I tried a KNN and Random Forest model to get a baseline performance measure. These models achieved an accuracy of 0.85 and 0.88, respectively (see below). <br>\n",
    "**Preprocessing:** I first reshaped the images for ingestion by the CNN. I then normalized the pixel values by dividing them by 255. I chose this approach over using a standard scaler since the pixel values were not normally distributed. Finally, I one-hot encoded the target variables to make them compatible with the multiclassification task at hand. <br>\n",
    "**Modeling:** I started with a very thorough CNN with a lot of units in each layer and then took measures to reduce the extent of overfitting (i.e., removing layers and reducing the number of units in each layer). I also tried various combinations of average and max pooling layers, padding settings, and kernel sizes. I varied the extent of dropout layers between both the convolutional and dense layers based on the relationship between the loss and vaidation loss, ultimately settling on the below architecture. The only hyperparameter that I tuned was the learning rate for the Adam optimizer that I used, which I did with a random search. This led to a decent performance increase. Overall, I tweaked this model until I achieved a performance that was substantially better (accuracy = 0.91) than that of the baseline Random Forest (accuracy = 0.88). <br>\n",
    "**Ensemble:** To create the ensemble, I packed the modeling process into functions that allowed me to vary the seed with which the kernel weights were initialized for each of the convolutional and dense layers. I created 10 variations of the CNN that I constructed, which led to an overall accuracy of 0.93 upon predicting on the test set with each model and averaging the results."
   ]
  },
  {
   "cell_type": "markdown",
   "metadata": {},
   "source": [
    "# FashionNet\n",
    "\n",
    "Welcome to the final assignment in this course. It's been a long journey, but you are now ready to unleash the powers of neural networks at any task. In this assignment, we will be working with a collection of apparel and accessories images. Big online retailers routinely have to classify images provided by third-parties. Your task is to build a neural network that can classify theese images into one of 10 classes with the highest possible accuracy, and document your model's salient properties.\n",
    "\n",
    "This assignment can be divided into the following sections:\n",
    "1. downloading data\n",
    "2. exploratory data analysis\n",
    "3. data preprocessing\n",
    "4. building and training\n",
    "5. saving the model and predictions"
   ]
  },
  {
   "cell_type": "code",
   "execution_count": 2,
   "metadata": {},
   "outputs": [],
   "source": [
    "import pandas as pd\n",
    "pd.set_option('precision', 2)\n",
    "import numpy as np\n",
    "import math\n",
    "import matplotlib.pyplot as plt\n",
    "import seaborn as sns\n",
    "sns.set_context('talk')\n",
    "%config InlineBackend.figure_format = 'retina'"
   ]
  },
  {
   "cell_type": "markdown",
   "metadata": {},
   "source": [
    "# Step 1: Download Data\n",
    "\n",
    "The dataset is has been split into train (49k), validate (7k), test (7k), score (7k) segments.\n",
    "No other data preprocessing was applied."
   ]
  },
  {
   "cell_type": "code",
   "execution_count": 36,
   "metadata": {},
   "outputs": [],
   "source": [
    "%%capture\n",
    "\n",
    "prefix = 'https://danylo-ucla.s3-us-west-2.amazonaws.com/storage/fashion/jobs/download_and_split/20191024-150318_75375ac5cd151ff751c2cd6dede05681'\n",
    "\n",
    "# Feature variables for train, validate, and test segments\n",
    "train_x = pd.read_parquet(f'{prefix}/train_x.parquet')\n",
    "validate_x = pd.read_parquet(f'{prefix}/validate_x.parquet')\n",
    "test_x = pd.read_parquet(f'{prefix}/test_x.parquet')\n",
    "\n",
    "# Target variable to be predicted by the model for each segment\n",
    "train_y = pd.read_parquet(f'{prefix}/train_y.parquet')\n",
    "validate_y = pd.read_parquet(f'{prefix}/validate_y.parquet')\n",
    "test_y = pd.read_parquet(f'{prefix}/test_y.parquet')\n",
    "\n",
    "# This is the segment which you will be graded on\n",
    "score_x = pd.read_parquet(f'{prefix}/score_x.parquet')"
   ]
  },
  {
   "cell_type": "code",
   "execution_count": 4,
   "metadata": {},
   "outputs": [
    {
     "data": {
      "text/html": [
       "<div>\n",
       "<style scoped>\n",
       "    .dataframe tbody tr th:only-of-type {\n",
       "        vertical-align: middle;\n",
       "    }\n",
       "\n",
       "    .dataframe tbody tr th {\n",
       "        vertical-align: top;\n",
       "    }\n",
       "\n",
       "    .dataframe thead th {\n",
       "        text-align: right;\n",
       "    }\n",
       "</style>\n",
       "<table border=\"1\" class=\"dataframe\">\n",
       "  <thead>\n",
       "    <tr style=\"text-align: right;\">\n",
       "      <th></th>\n",
       "      <th>label</th>\n",
       "    </tr>\n",
       "    <tr>\n",
       "      <th>class_id</th>\n",
       "      <th></th>\n",
       "    </tr>\n",
       "  </thead>\n",
       "  <tbody>\n",
       "    <tr>\n",
       "      <th>0</th>\n",
       "      <td>T-shirt/top</td>\n",
       "    </tr>\n",
       "    <tr>\n",
       "      <th>1</th>\n",
       "      <td>Trouser</td>\n",
       "    </tr>\n",
       "    <tr>\n",
       "      <th>2</th>\n",
       "      <td>Pullover</td>\n",
       "    </tr>\n",
       "    <tr>\n",
       "      <th>3</th>\n",
       "      <td>Dress</td>\n",
       "    </tr>\n",
       "    <tr>\n",
       "      <th>4</th>\n",
       "      <td>Coat</td>\n",
       "    </tr>\n",
       "    <tr>\n",
       "      <th>5</th>\n",
       "      <td>Sandal</td>\n",
       "    </tr>\n",
       "    <tr>\n",
       "      <th>6</th>\n",
       "      <td>Shirt</td>\n",
       "    </tr>\n",
       "    <tr>\n",
       "      <th>7</th>\n",
       "      <td>Sneaker</td>\n",
       "    </tr>\n",
       "    <tr>\n",
       "      <th>8</th>\n",
       "      <td>Bag</td>\n",
       "    </tr>\n",
       "    <tr>\n",
       "      <th>9</th>\n",
       "      <td>Ankle boot</td>\n",
       "    </tr>\n",
       "  </tbody>\n",
       "</table>\n",
       "</div>"
      ],
      "text/plain": [
       "                label\n",
       "class_id             \n",
       "0         T-shirt/top\n",
       "1             Trouser\n",
       "2            Pullover\n",
       "3               Dress\n",
       "4                Coat\n",
       "5              Sandal\n",
       "6               Shirt\n",
       "7             Sneaker\n",
       "8                 Bag\n",
       "9          Ankle boot"
      ]
     },
     "execution_count": 4,
     "metadata": {},
     "output_type": "execute_result"
    }
   ],
   "source": [
    "classes = [\n",
    "    'T-shirt/top',\n",
    "    'Trouser',\n",
    "    'Pullover',\n",
    "    'Dress',\n",
    "    'Coat',\n",
    "    'Sandal',\n",
    "    'Shirt',\n",
    "    'Sneaker',\n",
    "    'Bag',\n",
    "    'Ankle boot',\n",
    "]\n",
    "classes = pd.DataFrame(\n",
    "    data={\n",
    "        'label': classes\n",
    "    }\n",
    ")\n",
    "classes.index.name = 'class_id'\n",
    "classes"
   ]
  },
  {
   "cell_type": "markdown",
   "metadata": {},
   "source": [
    "# Step 2: Exploratory Data Analysis\n",
    "\n",
    "Before building a model, it's a good idea to take a look at the data.\n",
    "Here are some suggested ideas to explore:\n",
    "* Display the dataset's shape, mean, value ranges, and other simple statistics.\n",
    "* Estimate the distribution of classes.\n",
    "* Calculate baseline model metrics (cross-entropy, accuracy, etc). Without a baseline, there is no meaningful point of reference to measure the success of a model or its attributes. Baseline models can be non-parametric (for this dataset, kNN would be the easiest to build), and parametric (unconditional mean, linear regression, random forest classifier, etc)."
   ]
  },
  {
   "cell_type": "code",
   "execution_count": 5,
   "metadata": {},
   "outputs": [
    {
     "name": "stdout",
     "output_type": "stream",
     "text": [
      "(49000, 784)\n",
      "(49000, 1)\n",
      "0\n",
      "255\n"
     ]
    },
    {
     "data": {
      "image/png": "[encoded data removed]",
      "text/plain": [
       "<Figure size 432x288 with 1 Axes>"
      ]
     },
     "metadata": {
      "image/png": {
       "height": 280,
       "width": 403
      },
      "needs_background": "light"
     },
     "output_type": "display_data"
    },
    {
     "data": {
      "text/html": [
       "<div>\n",
       "<style scoped>\n",
       "    .dataframe tbody tr th:only-of-type {\n",
       "        vertical-align: middle;\n",
       "    }\n",
       "\n",
       "    .dataframe tbody tr th {\n",
       "        vertical-align: top;\n",
       "    }\n",
       "\n",
       "    .dataframe thead th {\n",
       "        text-align: right;\n",
       "    }\n",
       "</style>\n",
       "<table border=\"1\" class=\"dataframe\">\n",
       "  <thead>\n",
       "    <tr style=\"text-align: right;\">\n",
       "      <th></th>\n",
       "      <th>knn</th>\n",
       "      <th>rf</th>\n",
       "    </tr>\n",
       "  </thead>\n",
       "  <tbody>\n",
       "    <tr>\n",
       "      <th>logloss</th>\n",
       "      <td>1.79</td>\n",
       "      <td>0.40</td>\n",
       "    </tr>\n",
       "    <tr>\n",
       "      <th>accuracy</th>\n",
       "      <td>0.85</td>\n",
       "      <td>0.88</td>\n",
       "    </tr>\n",
       "  </tbody>\n",
       "</table>\n",
       "</div>"
      ],
      "text/plain": [
       "           knn    rf\n",
       "logloss   1.79  0.40\n",
       "accuracy  0.85  0.88"
      ]
     },
     "execution_count": 5,
     "metadata": {},
     "output_type": "execute_result"
    }
   ],
   "source": [
    "# shape of the training dataset\n",
    "print(train_x.shape) # images are 28 x 28\n",
    "print(train_y.shape) # labels are 1D, as expected\n",
    "# min and max values of the pixels\n",
    "print(train_x.min().min())\n",
    "print(train_x.max().max()) # so, the pixels have a single value where 0 = white and 1 = black (confirmed below)\n",
    "\n",
    "# display the distribution of classes\n",
    "train_y.hist()\n",
    "plt.show() # classes are evenly distributed across all labels, with ~5000 of each image type\n",
    "\n",
    "# baseline models\n",
    "# since these are baseline models, we won't use the validation set to tune hyperparameters\n",
    "# i.e., we'll just predict on the test set with default parameters to calculate baseline metrics\n",
    "from sklearn.neighbors import KNeighborsClassifier\n",
    "from sklearn.ensemble import RandomForestClassifier\n",
    "from sklearn.metrics import log_loss, accuracy_score\n",
    "# fit and evaluate kNN\n",
    "knn = KNeighborsClassifier()\n",
    "knn.fit(train_x, train_y.values.ravel())\n",
    "pred_y_knn_proba = knn.predict_proba(test_x)\n",
    "ll_knn = log_loss(test_y, pred_y_knn_proba)\n",
    "pred_y_knn = knn.predict(test_x)\n",
    "acc_score_knn = accuracy_score(test_y, pred_y_knn)\n",
    "# fit and evaluate Random Forest\n",
    "rf = RandomForestClassifier()\n",
    "rf.fit(train_x, train_y.values.ravel())\n",
    "pred_y_rf_proba = rf.predict_proba(test_x)\n",
    "ll_rf = log_loss(test_y, pred_y_rf_proba)\n",
    "pred_y_rf = rf.predict(test_x)\n",
    "acc_score_rf = accuracy_score(test_y, pred_y_rf)\n",
    "# create and display baseline dataframe\n",
    "baseline_df = pd.DataFrame({'knn':[ll_knn, acc_score_knn],\n",
    "                            'rf':[ll_rf, acc_score_rf]}, index=['logloss', 'accuracy'])\n",
    "baseline_df"
   ]
  },
  {
   "cell_type": "code",
   "execution_count": 6,
   "metadata": {},
   "outputs": [
    {
     "name": "stdout",
     "output_type": "stream",
     "text": [
      "0\n",
      "0\n",
      "0\n",
      "0\n",
      "0\n",
      "0\n",
      "0\n",
      "0\n",
      "0\n",
      "0\n"
     ]
    },
    {
     "data": {
      "image/png": "[encoded data removed]",
      "text/plain": [
       "<Figure size 648x864 with 10 Axes>"
      ]
     },
     "metadata": {
      "image/png": {
       "height": 839,
       "width": 603
      }
     },
     "output_type": "display_data"
    }
   ],
   "source": [
    "# This cell is plotting a random sample from each class.\n",
    "\n",
    "n = classes.shape[0]\n",
    "ncols = 3\n",
    "nrows = math.ceil(n/ncols)\n",
    "\n",
    "plt.figure(figsize=[3*ncols, 3*nrows])\n",
    "for idx, cl in classes['label'].iteritems():\n",
    "    \n",
    "    plt.subplot(nrows, ncols, idx+1)\n",
    "    \n",
    "    img = train_x.loc[train_y['label'] == idx].sample(1)\n",
    "    img = img.values.reshape(28, 28)\n",
    "    \n",
    "    # display the pixel value of the top left corner of each image\n",
    "    # these pixels are all white, so we can confirm that 0 = white\n",
    "    print(img[0][0])\n",
    "    \n",
    "    plt.imshow(img, cmap='binary')\n",
    "    \n",
    "    plt.title(classes.loc[idx, 'label'])\n",
    "    plt.xticks([])\n",
    "    plt.yticks([])\n",
    "    \n",
    "plt.tight_layout()\n",
    "plt.show()"
   ]
  },
  {
   "cell_type": "markdown",
   "metadata": {},
   "source": [
    "# Step 3: Data Preprocessing\n",
    "\n",
    "Next step is to transform the dataset for training. You are free to do any preprocesing that you would like.\n",
    "Here are some suggestions that might or might not be useful for your model:\n",
    "* standard scaling of the feature variables\n",
    "* one-hot-encoding of the target variable\n",
    "* reshaping the feature variables from 1D to 2D\n",
    "\n",
    "And relevant documentation:\n",
    "* https://scikit-learn.org/stable/modules/generated/sklearn.preprocessing.StandardScaler.html\n",
    "* https://scikit-learn.org/stable/modules/generated/sklearn.preprocessing.OneHotEncoder.html\n",
    "* https://docs.scipy.org/doc/numpy/reference/generated/numpy.reshape.html"
   ]
  },
  {
   "cell_type": "code",
   "execution_count": 37,
   "metadata": {},
   "outputs": [
    {
     "name": "stdout",
     "output_type": "stream",
     "text": [
      "(49000, 28, 28, 1)\n",
      "(7000, 28, 28, 1)\n",
      "(7000, 28, 28, 1)\n",
      "(7000, 28, 28, 1)\n"
     ]
    },
    {
     "data": {
      "image/png": "[encoded data removed]",
      "text/plain": [
       "<Figure size 432x288 with 1 Axes>"
      ]
     },
     "metadata": {
      "image/png": {
       "height": 276,
       "width": 387
      },
      "needs_background": "light"
     },
     "output_type": "display_data"
    },
    {
     "name": "stdout",
     "output_type": "stream",
     "text": [
      "2\n",
      "[0. 0. 1. 0. 0. 0. 0. 0. 0. 0.]\n"
     ]
    }
   ],
   "source": [
    "# convert images to 2D arrays\n",
    "import math\n",
    "img_dim = 28\n",
    "train_x = train_x.values.reshape(train_x.shape[0], img_dim, img_dim, 1)\n",
    "validate_x = validate_x.values.reshape(validate_x.shape[0], img_dim, img_dim, 1)\n",
    "test_x = test_x.values.reshape(test_x.shape[0], img_dim, img_dim, 1)\n",
    "score_x = score_x.values.reshape(score_x.shape[0], img_dim, img_dim, 1)\n",
    "# check shapes\n",
    "print(train_x.shape)\n",
    "print(validate_x.shape)\n",
    "print(test_x.shape)\n",
    "print(score_x.shape)\n",
    "\n",
    "# display historgram of pixel values\n",
    "plt.hist(train_x.ravel())\n",
    "plt.show()\n",
    "\n",
    "# normalize pixel values by dividing by 255 (this can speed up the training process)\n",
    "train_x = train_x / 255.0\n",
    "validate_x = validate_x / 255.0\n",
    "test_x = test_x / 255.0\n",
    "score_x = score_x / 255.0\n",
    "\n",
    "# one-hot encode target variable\n",
    "from tensorflow.keras.utils import to_categorical\n",
    "# display first initial training label\n",
    "print(train_y.loc[0][0])\n",
    "train_y = to_categorical(train_y)\n",
    "validate_y = to_categorical(validate_y)\n",
    "test_y = to_categorical(test_y)\n",
    "# display first one-hot encoded training label to check one-hot encoding\n",
    "print(train_y[0])"
   ]
  },
  {
   "cell_type": "markdown",
   "metadata": {},
   "source": [
    "To make sure everything was properly processed, let's display a few of the images:"
   ]
  },
  {
   "cell_type": "code",
   "execution_count": 8,
   "metadata": {},
   "outputs": [
    {
     "data": {
      "image/png": "[encoded data removed]",
      "text/plain": [
       "<Figure size 720x720 with 25 Axes>"
      ]
     },
     "metadata": {
      "image/png": {
       "height": 582,
       "width": 578
      }
     },
     "output_type": "display_data"
    }
   ],
   "source": [
    "plt.figure(figsize=(10,10))\n",
    "for i in range(25):\n",
    "    plt.subplot(5,5,i+1)\n",
    "    plt.xticks([])\n",
    "    plt.yticks([])\n",
    "    plt.grid(False)\n",
    "    plt.imshow(train_x[i], cmap=plt.cm.binary)\n",
    "    plt.title(classes.loc[np.where(train_y[i] == 1)].values[0][0], fontsize=12)\n",
    "plt.show()"
   ]
  },
  {
   "cell_type": "markdown",
   "metadata": {},
   "source": [
    "# Step 4: Building and training\n",
    "\n",
    "Here comes the most challenging part. Are you ready to unleash the power of neural networks?\n",
    "You can refer to the slides and discussion in the first lecture on hyperparameter optimization, random search, and greedy search."
   ]
  },
  {
   "cell_type": "markdown",
   "metadata": {},
   "source": [
    "While I'd like to leverage transfer learning and combine various pre-trained models into an ensemble, the resolution (28x28) of these images is too low for many of the models available (e.g., VGG16, InceptionV3, ResNet50, etc.). Because of this, we'll stick to constructing our CNN from scratch and then build the ensemble model by varying the random state from which the weights are initialized."
   ]
  },
  {
   "cell_type": "code",
   "execution_count": 9,
   "metadata": {},
   "outputs": [
    {
     "name": "stdout",
     "output_type": "stream",
     "text": [
      "PhysicalDevice(name='/physical_device:GPU:0', device_type='GPU')\n"
     ]
    },
    {
     "name": "stderr",
     "output_type": "stream",
     "text": [
      "2021-10-29 21:58:47.040433: I tensorflow/stream_executor/platform/default/dso_loader.cc:44] Successfully opened dynamic library libcuda.so.1\n",
      "2021-10-29 21:58:47.070206: I tensorflow/stream_executor/cuda/cuda_gpu_executor.cc:981] successful NUMA node read from SysFS had negative value (-1), but there must be at least one NUMA node, so returning NUMA node zero\n",
      "2021-10-29 21:58:47.070999: I tensorflow/core/common_runtime/gpu/gpu_device.cc:1561] Found device 0 with properties: \n",
      "pciBusID: 0000:00:1e.0 name: Tesla K80 computeCapability: 3.7\n",
      "coreClock: 0.8235GHz coreCount: 13 deviceMemorySize: 11.17GiB deviceMemoryBandwidth: 223.96GiB/s\n",
      "2021-10-29 21:58:47.071285: I tensorflow/stream_executor/platform/default/dso_loader.cc:44] Successfully opened dynamic library libcudart.so.10.1\n",
      "2021-10-29 21:58:47.073093: I tensorflow/stream_executor/platform/default/dso_loader.cc:44] Successfully opened dynamic library libcublas.so.10\n",
      "2021-10-29 21:58:47.074868: I tensorflow/stream_executor/platform/default/dso_loader.cc:44] Successfully opened dynamic library libcufft.so.10\n",
      "2021-10-29 21:58:47.075181: I tensorflow/stream_executor/platform/default/dso_loader.cc:44] Successfully opened dynamic library libcurand.so.10\n",
      "2021-10-29 21:58:47.077062: I tensorflow/stream_executor/platform/default/dso_loader.cc:44] Successfully opened dynamic library libcusolver.so.10\n",
      "2021-10-29 21:58:47.077915: I tensorflow/stream_executor/platform/default/dso_loader.cc:44] Successfully opened dynamic library libcusparse.so.10\n",
      "2021-10-29 21:58:47.081936: I tensorflow/stream_executor/platform/default/dso_loader.cc:44] Successfully opened dynamic library libcudnn.so.7\n",
      "2021-10-29 21:58:47.082153: I tensorflow/stream_executor/cuda/cuda_gpu_executor.cc:981] successful NUMA node read from SysFS had negative value (-1), but there must be at least one NUMA node, so returning NUMA node zero\n",
      "2021-10-29 21:58:47.083025: I tensorflow/stream_executor/cuda/cuda_gpu_executor.cc:981] successful NUMA node read from SysFS had negative value (-1), but there must be at least one NUMA node, so returning NUMA node zero\n",
      "2021-10-29 21:58:47.083722: I tensorflow/core/common_runtime/gpu/gpu_device.cc:1703] Adding visible gpu devices: 0\n"
     ]
    }
   ],
   "source": [
    "# we first configure the GPU to be used by Tensorflow\n",
    "import tensorflow as tf\n",
    "for gpu in tf.config.experimental.list_physical_devices('GPU'):\n",
    "    print(gpu)\n",
    "    tf.config.experimental.set_memory_growth(gpu, True)"
   ]
  },
  {
   "cell_type": "markdown",
   "metadata": {},
   "source": [
    "The below architecture yielded an accuracy score (~0.89) better than that of the baseline models with a learning rate of 0.01. With this in mind, we'll implement a random search across a range of learning rates near this value to see if we can further improve the performance prior to implementing the ensemble."
   ]
  },
  {
   "cell_type": "code",
   "execution_count": 28,
   "metadata": {},
   "outputs": [],
   "source": [
    "# Enter your code here.\n",
    "# You can add cells directly below this one too.\n",
    "\n",
    "from kerastuner.engine.hyperparameters import HyperParameters\n",
    "from tensorflow.keras.initializers import GlorotUniform\n",
    "\n",
    "def build_cnn(hp: HyperParameters, seed=11):\n",
    "\n",
    "    # we'll first try the ensemble with the same architecture but vary the random initialization\n",
    "    model = tf.keras.models.Sequential([\n",
    "        # Conv2D/Pooling layers\n",
    "        tf.keras.layers.Conv2D(256, kernel_size=3, padding='same', activation='relu', kernel_initializer=GlorotUniform(seed=seed)),\n",
    "        tf.keras.layers.MaxPool2D(),\n",
    "        tf.keras.layers.Conv2D(128, kernel_size=3, activation='relu', kernel_initializer=GlorotUniform(seed=seed+100)),\n",
    "        tf.keras.layers.Conv2D(64, kernel_size=3, activation='relu', kernel_initializer=GlorotUniform(seed=seed+200)),\n",
    "        tf.keras.layers.AvgPool2D(pool_size=(2, 2), padding='same'),\n",
    "        tf.keras.layers.Flatten(),\n",
    "        # fully connected classifier layers + dropout layers\n",
    "        tf.keras.layers.Dense(64, activation='relu', kernel_initializer=GlorotUniform(seed=seed+300)),\n",
    "        tf.keras.layers.Dropout(0.2),\n",
    "        tf.keras.layers.Dense(32, activation='relu', kernel_initializer=GlorotUniform(seed=seed+400)),\n",
    "        tf.keras.layers.Dense(16, activation='relu', kernel_initializer=GlorotUniform(seed=seed+500)),\n",
    "        # output layer has 10 units since there are 10 classes, multiclass classification --> softmax activation\n",
    "        tf.keras.layers.Dense(units=10, activation='softmax', kernel_initializer=GlorotUniform(seed=seed+600))\n",
    "    ])\n",
    "\n",
    "    # compile the model\n",
    "    model.compile(\n",
    "        optimizer=tf.keras.optimizers.Adam(\n",
    "            learning_rate=hp.Float(name='learning_rate', min_value=0.005, max_value=0.05, sampling='log'),\n",
    "        ),\n",
    "        loss='categorical_crossentropy'\n",
    "    )\n",
    "    \n",
    "    return model\n",
    "\n",
    "def train_cnn(model, seed, epochs=50, patience=5):\n",
    "\n",
    "    np.random.seed(seed)\n",
    "    tf.random.set_seed(seed)\n",
    "    \n",
    "    # fit the model\n",
    "    history = model.fit(\n",
    "        train_x, train_y,\n",
    "        epochs=epochs,\n",
    "        batch_size=128,\n",
    "        validation_data=(validate_x, validate_y),\n",
    "        callbacks = [tf.keras.callbacks.EarlyStopping(monitor='val_loss', min_delta=0.005, patience=patience)]\n",
    "    )\n",
    "    \n",
    "    return history"
   ]
  },
  {
   "cell_type": "code",
   "execution_count": 11,
   "metadata": {
    "collapsed": true,
    "jupyter": {
     "outputs_hidden": true
    }
   },
   "outputs": [
    {
     "name": "stdout",
     "output_type": "stream",
     "text": [
      "INFO:tensorflow:Reloading Oracle from existing project cnn_hyperop/cnn_01/oracle.json\n"
     ]
    },
    {
     "name": "stderr",
     "output_type": "stream",
     "text": [
      "2021-10-29 21:59:05.232335: I tensorflow/core/platform/cpu_feature_guard.cc:143] Your CPU supports instructions that this TensorFlow binary was not compiled to use: SSE4.1 SSE4.2 AVX AVX2 FMA\n",
      "2021-10-29 21:59:05.256923: I tensorflow/core/platform/profile_utils/cpu_utils.cc:102] CPU Frequency: 2300005000 Hz\n",
      "2021-10-29 21:59:05.257284: I tensorflow/compiler/xla/service/service.cc:168] XLA service 0x555a8abf8e20 initialized for platform Host (this does not guarantee that XLA will be used). Devices:\n",
      "2021-10-29 21:59:05.257311: I tensorflow/compiler/xla/service/service.cc:176]   StreamExecutor device (0): Host, Default Version\n",
      "2021-10-29 21:59:05.257782: I tensorflow/stream_executor/cuda/cuda_gpu_executor.cc:981] successful NUMA node read from SysFS had negative value (-1), but there must be at least one NUMA node, so returning NUMA node zero\n",
      "2021-10-29 21:59:05.258587: I tensorflow/core/common_runtime/gpu/gpu_device.cc:1561] Found device 0 with properties: \n",
      "pciBusID: 0000:00:1e.0 name: Tesla K80 computeCapability: 3.7\n",
      "coreClock: 0.8235GHz coreCount: 13 deviceMemorySize: 11.17GiB deviceMemoryBandwidth: 223.96GiB/s\n",
      "2021-10-29 21:59:05.258686: I tensorflow/stream_executor/platform/default/dso_loader.cc:44] Successfully opened dynamic library libcudart.so.10.1\n",
      "2021-10-29 21:59:05.258721: I tensorflow/stream_executor/platform/default/dso_loader.cc:44] Successfully opened dynamic library libcublas.so.10\n",
      "2021-10-29 21:59:05.258752: I tensorflow/stream_executor/platform/default/dso_loader.cc:44] Successfully opened dynamic library libcufft.so.10\n",
      "2021-10-29 21:59:05.258783: I tensorflow/stream_executor/platform/default/dso_loader.cc:44] Successfully opened dynamic library libcurand.so.10\n",
      "2021-10-29 21:59:05.258813: I tensorflow/stream_executor/platform/default/dso_loader.cc:44] Successfully opened dynamic library libcusolver.so.10\n",
      "2021-10-29 21:59:05.258843: I tensorflow/stream_executor/platform/default/dso_loader.cc:44] Successfully opened dynamic library libcusparse.so.10\n",
      "2021-10-29 21:59:05.258874: I tensorflow/stream_executor/platform/default/dso_loader.cc:44] Successfully opened dynamic library libcudnn.so.7\n",
      "2021-10-29 21:59:05.258973: I tensorflow/stream_executor/cuda/cuda_gpu_executor.cc:981] successful NUMA node read from SysFS had negative value (-1), but there must be at least one NUMA node, so returning NUMA node zero\n",
      "2021-10-29 21:59:05.259752: I tensorflow/stream_executor/cuda/cuda_gpu_executor.cc:981] successful NUMA node read from SysFS had negative value (-1), but there must be at least one NUMA node, so returning NUMA node zero\n",
      "2021-10-29 21:59:05.260421: I tensorflow/core/common_runtime/gpu/gpu_device.cc:1703] Adding visible gpu devices: 0\n",
      "2021-10-29 21:59:05.260487: I tensorflow/stream_executor/platform/default/dso_loader.cc:44] Successfully opened dynamic library libcudart.so.10.1\n",
      "2021-10-29 21:59:05.309582: I tensorflow/core/common_runtime/gpu/gpu_device.cc:1102] Device interconnect StreamExecutor with strength 1 edge matrix:\n",
      "2021-10-29 21:59:05.309614: I tensorflow/core/common_runtime/gpu/gpu_device.cc:1108]      0 \n",
      "2021-10-29 21:59:05.309623: I tensorflow/core/common_runtime/gpu/gpu_device.cc:1121] 0:   N \n",
      "2021-10-29 21:59:05.309970: I tensorflow/stream_executor/cuda/cuda_gpu_executor.cc:981] successful NUMA node read from SysFS had negative value (-1), but there must be at least one NUMA node, so returning NUMA node zero\n",
      "2021-10-29 21:59:05.310796: I tensorflow/stream_executor/cuda/cuda_gpu_executor.cc:981] successful NUMA node read from SysFS had negative value (-1), but there must be at least one NUMA node, so returning NUMA node zero\n",
      "2021-10-29 21:59:05.311583: I tensorflow/stream_executor/cuda/cuda_gpu_executor.cc:981] successful NUMA node read from SysFS had negative value (-1), but there must be at least one NUMA node, so returning NUMA node zero\n",
      "2021-10-29 21:59:05.312300: I tensorflow/core/common_runtime/gpu/gpu_device.cc:1247] Created TensorFlow device (/job:localhost/replica:0/task:0/device:GPU:0 with 9502 MB memory) -> physical GPU (device: 0, name: Tesla K80, pci bus id: 0000:00:1e.0, compute capability: 3.7)\n",
      "2021-10-29 21:59:05.314652: I tensorflow/compiler/xla/service/service.cc:168] XLA service 0x555a94ecb8b0 initialized for platform CUDA (this does not guarantee that XLA will be used). Devices:\n",
      "2021-10-29 21:59:05.314672: I tensorflow/compiler/xla/service/service.cc:176]   StreamExecutor device (0): Tesla K80, Compute Capability 3.7\n"
     ]
    },
    {
     "name": "stdout",
     "output_type": "stream",
     "text": [
      "INFO:tensorflow:Reloading Tuner from cnn_hyperop/cnn_01/tuner0.json\n",
      "Search space summary\n",
      "Default search space size: 1\n",
      "learning_rate (Float)\n",
      "{'default': 0.005, 'conditions': [], 'min_value': 0.005, 'max_value': 0.05, 'step': None, 'sampling': 'log'}\n"
     ]
    }
   ],
   "source": [
    "from kerastuner.tuners import RandomSearch\n",
    "\n",
    "tuner = RandomSearch(\n",
    "    build_cnn,\n",
    "    objective='val_loss',\n",
    "    max_trials=10,\n",
    "    executions_per_trial=3,\n",
    "    directory='cnn_hyperop',\n",
    "    \n",
    "    # experiment name must change upon modifying the model structure or the set of hyperparameters\n",
    "    project_name = 'cnn_01'\n",
    ")\n",
    "\n",
    "# This displays which hyperparameters are tunable, and their respective distribution.\n",
    "tuner.search_space_summary()"
   ]
  },
  {
   "cell_type": "code",
   "execution_count": 11,
   "metadata": {},
   "outputs": [
    {
     "name": "stdout",
     "output_type": "stream",
     "text": [
      "Trial 10 Complete [00h 06m 09s]\n",
      "val_loss: 0.3125696579615275\n",
      "\n",
      "Best val_loss So Far: 0.25705381234486896\n",
      "Total elapsed time: 01h 01m 28s\n",
      "INFO:tensorflow:Oracle triggered exit\n"
     ]
    }
   ],
   "source": [
    "# we now run the random search\n",
    "np.random.seed(11)\n",
    "tf.random.set_seed(11)\n",
    "\n",
    "tuner.search(\n",
    "    train_x, train_y,\n",
    "    epochs=10, # lower number of epochs for the search (increase on final training pass)\n",
    "    batch_size=128,\n",
    "    shuffle=True,\n",
    "    validation_data=(validate_x, validate_y)\n",
    ")"
   ]
  },
  {
   "cell_type": "code",
   "execution_count": 12,
   "metadata": {
    "collapsed": true,
    "jupyter": {
     "outputs_hidden": true
    }
   },
   "outputs": [
    {
     "name": "stdout",
     "output_type": "stream",
     "text": [
      "Results summary\n",
      "Results in cnn_hyperop/cnn_01\n",
      "Showing 10 best trials\n",
      "Objective(name='val_loss', direction='min')\n",
      "Trial summary\n",
      "Hyperparameters:\n",
      "learning_rate: 0.005059757909463998\n",
      "Score: 0.25705381234486896\n",
      "Trial summary\n",
      "Hyperparameters:\n",
      "learning_rate: 0.005573086694096593\n",
      "Score: 0.2617170810699463\n",
      "Trial summary\n",
      "Hyperparameters:\n",
      "learning_rate: 0.006561662899494251\n",
      "Score: 0.27867574493090314\n",
      "Trial summary\n",
      "Hyperparameters:\n",
      "learning_rate: 0.007385612638555972\n",
      "Score: 0.28284503022829693\n",
      "Trial summary\n",
      "Hyperparameters:\n",
      "learning_rate: 0.009052866711791877\n",
      "Score: 0.3125696579615275\n",
      "Trial summary\n",
      "Hyperparameters:\n",
      "learning_rate: 0.01962417081715121\n",
      "Score: 0.40527238448460895\n",
      "Trial summary\n",
      "Hyperparameters:\n",
      "learning_rate: 0.01630828329040531\n",
      "Score: 1.0256934364636738\n",
      "Trial summary\n",
      "Hyperparameters:\n",
      "learning_rate: 0.025059785912437904\n",
      "Score: 1.691709707180659\n",
      "Trial summary\n",
      "Hyperparameters:\n",
      "learning_rate: 0.026732317832726695\n",
      "Score: 1.6951921085516612\n",
      "Trial summary\n",
      "Hyperparameters:\n",
      "learning_rate: 0.03472812244867261\n",
      "Score: 1.7458421389261882\n"
     ]
    }
   ],
   "source": [
    "tuner.results_summary()"
   ]
  },
  {
   "cell_type": "code",
   "execution_count": 13,
   "metadata": {},
   "outputs": [
    {
     "data": {
      "text/html": [
       "<div>\n",
       "<style scoped>\n",
       "    .dataframe tbody tr th:only-of-type {\n",
       "        vertical-align: middle;\n",
       "    }\n",
       "\n",
       "    .dataframe tbody tr th {\n",
       "        vertical-align: top;\n",
       "    }\n",
       "\n",
       "    .dataframe thead th {\n",
       "        text-align: right;\n",
       "    }\n",
       "</style>\n",
       "<table border=\"1\" class=\"dataframe\">\n",
       "  <thead>\n",
       "    <tr style=\"text-align: right;\">\n",
       "      <th></th>\n",
       "      <th>score</th>\n",
       "      <th>learning_rate</th>\n",
       "    </tr>\n",
       "    <tr>\n",
       "      <th>trial_id</th>\n",
       "      <th></th>\n",
       "      <th></th>\n",
       "    </tr>\n",
       "  </thead>\n",
       "  <tbody>\n",
       "    <tr>\n",
       "      <th>557d95a670b85883edcc9d750d6f062f</th>\n",
       "      <td>0.26</td>\n",
       "      <td>5.06e-03</td>\n",
       "    </tr>\n",
       "    <tr>\n",
       "      <th>64459126ba66f41526bf62cfa9600699</th>\n",
       "      <td>0.26</td>\n",
       "      <td>5.57e-03</td>\n",
       "    </tr>\n",
       "    <tr>\n",
       "      <th>81edf0371399bdda22e09525a9d5a9a9</th>\n",
       "      <td>0.28</td>\n",
       "      <td>6.56e-03</td>\n",
       "    </tr>\n",
       "    <tr>\n",
       "      <th>fa8b3aef73cbe53ddcf18b03aa29fd7f</th>\n",
       "      <td>0.28</td>\n",
       "      <td>7.39e-03</td>\n",
       "    </tr>\n",
       "    <tr>\n",
       "      <th>67540cdef15df76e6c3b16046949bc8c</th>\n",
       "      <td>0.31</td>\n",
       "      <td>9.05e-03</td>\n",
       "    </tr>\n",
       "    <tr>\n",
       "      <th>7870751be491054744dc41f7c14e8ac1</th>\n",
       "      <td>0.41</td>\n",
       "      <td>1.96e-02</td>\n",
       "    </tr>\n",
       "    <tr>\n",
       "      <th>e9f844b95ca85f6784f67ee3bbd60728</th>\n",
       "      <td>1.03</td>\n",
       "      <td>1.63e-02</td>\n",
       "    </tr>\n",
       "    <tr>\n",
       "      <th>12e3717082b575007c8d1271c6f2a029</th>\n",
       "      <td>1.69</td>\n",
       "      <td>2.51e-02</td>\n",
       "    </tr>\n",
       "    <tr>\n",
       "      <th>02b79bdc1a811be401c1a112c4f940eb</th>\n",
       "      <td>1.70</td>\n",
       "      <td>2.67e-02</td>\n",
       "    </tr>\n",
       "    <tr>\n",
       "      <th>3f6574f8d4eef5fee51fec6b7415b373</th>\n",
       "      <td>1.75</td>\n",
       "      <td>3.47e-02</td>\n",
       "    </tr>\n",
       "  </tbody>\n",
       "</table>\n",
       "</div>"
      ],
      "text/plain": [
       "                                  score  learning_rate\n",
       "trial_id                                              \n",
       "557d95a670b85883edcc9d750d6f062f   0.26       5.06e-03\n",
       "64459126ba66f41526bf62cfa9600699   0.26       5.57e-03\n",
       "81edf0371399bdda22e09525a9d5a9a9   0.28       6.56e-03\n",
       "fa8b3aef73cbe53ddcf18b03aa29fd7f   0.28       7.39e-03\n",
       "67540cdef15df76e6c3b16046949bc8c   0.31       9.05e-03\n",
       "7870751be491054744dc41f7c14e8ac1   0.41       1.96e-02\n",
       "e9f844b95ca85f6784f67ee3bbd60728   1.03       1.63e-02\n",
       "12e3717082b575007c8d1271c6f2a029   1.69       2.51e-02\n",
       "02b79bdc1a811be401c1a112c4f940eb   1.70       2.67e-02\n",
       "3f6574f8d4eef5fee51fec6b7415b373   1.75       3.47e-02"
      ]
     },
     "execution_count": 13,
     "metadata": {},
     "output_type": "execute_result"
    }
   ],
   "source": [
    "# display trial info\n",
    "pd.DataFrame([\n",
    "    {\n",
    "        'trial_id': t.trial_id,\n",
    "        'score': t.score,\n",
    "        **t.hyperparameters.values \n",
    "    }\n",
    "    for t in tuner.oracle.get_best_trials(num_trials=10)\n",
    "]).set_index('trial_id')"
   ]
  },
  {
   "cell_type": "code",
   "execution_count": 14,
   "metadata": {},
   "outputs": [
    {
     "data": {
      "text/plain": [
       "{'learning_rate': 0.005059757909463998}"
      ]
     },
     "execution_count": 14,
     "metadata": {},
     "output_type": "execute_result"
    }
   ],
   "source": [
    "# display optimal learning rate\n",
    "best_hyperparameters = tuner.get_best_hyperparameters()[0]\n",
    "best_hyperparameters.values"
   ]
  },
  {
   "cell_type": "code",
   "execution_count": 12,
   "metadata": {},
   "outputs": [
    {
     "name": "stdout",
     "output_type": "stream",
     "text": [
      "Epoch 1/100\n"
     ]
    },
    {
     "name": "stderr",
     "output_type": "stream",
     "text": [
      "2021-10-29 21:59:36.733765: I tensorflow/stream_executor/platform/default/dso_loader.cc:44] Successfully opened dynamic library libcublas.so.10\n",
      "2021-10-29 21:59:36.908099: I tensorflow/stream_executor/platform/default/dso_loader.cc:44] Successfully opened dynamic library libcudnn.so.7\n"
     ]
    },
    {
     "name": "stdout",
     "output_type": "stream",
     "text": [
      "383/383 [==============================] - 13s 34ms/step - loss: 0.7446 - val_loss: 0.4543\n",
      "Epoch 2/100\n",
      "383/383 [==============================] - 12s 32ms/step - loss: 0.4669 - val_loss: 0.3733\n",
      "Epoch 3/100\n",
      "383/383 [==============================] - 12s 32ms/step - loss: 0.3966 - val_loss: 0.3433\n",
      "Epoch 4/100\n",
      "383/383 [==============================] - 12s 32ms/step - loss: 0.3540 - val_loss: 0.3060\n",
      "Epoch 5/100\n",
      "383/383 [==============================] - 12s 32ms/step - loss: 0.3286 - val_loss: 0.2853\n",
      "Epoch 6/100\n",
      "383/383 [==============================] - 12s 32ms/step - loss: 0.3022 - val_loss: 0.2841\n",
      "Epoch 7/100\n",
      "383/383 [==============================] - 12s 32ms/step - loss: 0.2918 - val_loss: 0.2796\n",
      "Epoch 8/100\n",
      "383/383 [==============================] - 12s 32ms/step - loss: 0.2738 - val_loss: 0.2571\n",
      "Epoch 9/100\n",
      "383/383 [==============================] - 12s 32ms/step - loss: 0.2626 - val_loss: 0.2546\n",
      "Epoch 10/100\n",
      "383/383 [==============================] - 12s 32ms/step - loss: 0.2560 - val_loss: 0.2606\n"
     ]
    }
   ],
   "source": [
    "# now, a final training pass with the optimal learning rate\n",
    "hp = HyperParameters()\n",
    "hp.Fixed('learning_rate', value=0.005059757909463998)\n",
    "cnn = build_cnn(hp)\n",
    "history = train_cnn(cnn, seed=11, epochs=100, patience=2)"
   ]
  },
  {
   "cell_type": "code",
   "execution_count": 13,
   "metadata": {},
   "outputs": [
    {
     "data": {
      "image/png": "[encoded data removed]",
      "text/plain": [
       "<Figure size 432x288 with 1 Axes>"
      ]
     },
     "metadata": {
      "image/png": {
       "height": 260,
       "width": 387
      },
      "needs_background": "light"
     },
     "output_type": "display_data"
    }
   ],
   "source": [
    "# display learning curve of final model\n",
    "lcurve_loss = pd.Series(history.history['loss'])\n",
    "lcurve_val_loss = pd.Series(history.history['val_loss'])\n",
    "plt.plot(lcurve_loss, label='Loss')\n",
    "plt.plot(lcurve_val_loss, label='Val Loss')\n",
    "plt.legend()\n",
    "plt.xticks(lcurve_loss.index)\n",
    "plt.show()"
   ]
  },
  {
   "cell_type": "code",
   "execution_count": 14,
   "metadata": {},
   "outputs": [
    {
     "name": "stdout",
     "output_type": "stream",
     "text": [
      "0.27\n",
      "0.91\n"
     ]
    }
   ],
   "source": [
    "# compute log loss and accuracy\n",
    "proba_y = cnn.predict(test_x)\n",
    "print(f'{log_loss(test_y, proba_y):.2f}')\n",
    "pred_y = to_categorical((proba_y).argmax(axis=-1))\n",
    "print(f'{accuracy_score(test_y, pred_y):.2f}')"
   ]
  },
  {
   "cell_type": "markdown",
   "metadata": {},
   "source": [
    "The CNN is substantially outperforming the baseline models. We'll now implement the ensemble by constructing the above model multiple times with different random states, predicting on the test set with each version, and averaging the outputs."
   ]
  },
  {
   "cell_type": "code",
   "execution_count": 29,
   "metadata": {},
   "outputs": [
    {
     "name": "stdout",
     "output_type": "stream",
     "text": [
      "Epoch 1/100\n",
      "383/383 [==============================] - 12s 32ms/step - loss: 0.7479 - val_loss: 0.4315\n",
      "Epoch 2/100\n",
      "383/383 [==============================] - 12s 31ms/step - loss: 0.4210 - val_loss: 0.3244\n",
      "Epoch 3/100\n",
      "383/383 [==============================] - 12s 31ms/step - loss: 0.3521 - val_loss: 0.3244\n",
      "Epoch 4/100\n",
      "383/383 [==============================] - 12s 32ms/step - loss: 0.3197 - val_loss: 0.2951\n",
      "Epoch 5/100\n",
      "383/383 [==============================] - 12s 32ms/step - loss: 0.2948 - val_loss: 0.2923\n",
      "Epoch 6/100\n",
      "383/383 [==============================] - 12s 31ms/step - loss: 0.2801 - val_loss: 0.2592\n",
      "Epoch 7/100\n",
      "383/383 [==============================] - 12s 32ms/step - loss: 0.2690 - val_loss: 0.2575\n",
      "Epoch 8/100\n",
      "383/383 [==============================] - 12s 31ms/step - loss: 0.2532 - val_loss: 0.2520\n",
      "Epoch 9/100\n",
      "383/383 [==============================] - 13s 33ms/step - loss: 0.2430 - val_loss: 0.2652\n",
      "Epoch 10/100\n",
      "383/383 [==============================] - 12s 32ms/step - loss: 0.2391 - val_loss: 0.2556\n",
      "Epoch 1/100\n",
      "383/383 [==============================] - 12s 32ms/step - loss: 0.7104 - val_loss: 0.4652\n",
      "Epoch 2/100\n",
      "383/383 [==============================] - 12s 32ms/step - loss: 0.4696 - val_loss: 0.3839\n",
      "Epoch 3/100\n",
      "383/383 [==============================] - 12s 32ms/step - loss: 0.4004 - val_loss: 0.3324\n",
      "Epoch 4/100\n",
      "383/383 [==============================] - 12s 32ms/step - loss: 0.3437 - val_loss: 0.3086\n",
      "Epoch 5/100\n",
      "383/383 [==============================] - 12s 32ms/step - loss: 0.3157 - val_loss: 0.2968\n",
      "Epoch 6/100\n",
      "383/383 [==============================] - 12s 32ms/step - loss: 0.2986 - val_loss: 0.2905\n",
      "Epoch 7/100\n",
      "383/383 [==============================] - 12s 32ms/step - loss: 0.2779 - val_loss: 0.2769\n",
      "Epoch 8/100\n",
      "383/383 [==============================] - 12s 31ms/step - loss: 0.2620 - val_loss: 0.2710\n",
      "Epoch 9/100\n",
      "383/383 [==============================] - 12s 32ms/step - loss: 0.2560 - val_loss: 0.2554\n",
      "Epoch 10/100\n",
      "383/383 [==============================] - 12s 32ms/step - loss: 0.2413 - val_loss: 0.2625\n",
      "Epoch 11/100\n",
      "383/383 [==============================] - 12s 32ms/step - loss: 0.2355 - val_loss: 0.2697\n",
      "Epoch 1/100\n",
      "383/383 [==============================] - 12s 32ms/step - loss: 0.6892 - val_loss: 0.4112\n",
      "Epoch 2/100\n",
      "383/383 [==============================] - 12s 32ms/step - loss: 0.4047 - val_loss: 0.3187\n",
      "Epoch 3/100\n",
      "383/383 [==============================] - 12s 32ms/step - loss: 0.3467 - val_loss: 0.2927\n",
      "Epoch 4/100\n",
      "383/383 [==============================] - 12s 32ms/step - loss: 0.3197 - val_loss: 0.2745\n",
      "Epoch 5/100\n",
      "383/383 [==============================] - 12s 32ms/step - loss: 0.2979 - val_loss: 0.2700\n",
      "Epoch 6/100\n",
      "383/383 [==============================] - 12s 31ms/step - loss: 0.2809 - val_loss: 0.2653\n",
      "Epoch 7/100\n",
      "383/383 [==============================] - 12s 32ms/step - loss: 0.2683 - val_loss: 0.2599\n",
      "Epoch 8/100\n",
      "383/383 [==============================] - 13s 33ms/step - loss: 0.2570 - val_loss: 0.2774\n",
      "Epoch 9/100\n",
      "383/383 [==============================] - 12s 31ms/step - loss: 0.2485 - val_loss: 0.2696\n",
      "Epoch 1/100\n",
      "383/383 [==============================] - 12s 32ms/step - loss: 0.8051 - val_loss: 0.4896\n",
      "Epoch 2/100\n",
      "383/383 [==============================] - 12s 31ms/step - loss: 0.5067 - val_loss: 0.4382\n",
      "Epoch 3/100\n",
      "383/383 [==============================] - 12s 32ms/step - loss: 0.4383 - val_loss: 0.3676\n",
      "Epoch 4/100\n",
      "383/383 [==============================] - 12s 32ms/step - loss: 0.3883 - val_loss: 0.3240\n",
      "Epoch 5/100\n",
      "383/383 [==============================] - 12s 32ms/step - loss: 0.3495 - val_loss: 0.3111\n",
      "Epoch 6/100\n",
      "383/383 [==============================] - 12s 32ms/step - loss: 0.3325 - val_loss: 0.3094\n",
      "Epoch 7/100\n",
      "383/383 [==============================] - 12s 32ms/step - loss: 0.3134 - val_loss: 0.2868\n",
      "Epoch 8/100\n",
      "383/383 [==============================] - 12s 31ms/step - loss: 0.2964 - val_loss: 0.2837\n",
      "Epoch 9/100\n",
      "383/383 [==============================] - 12s 32ms/step - loss: 0.2849 - val_loss: 0.2684\n",
      "Epoch 10/100\n",
      "383/383 [==============================] - 12s 32ms/step - loss: 0.2757 - val_loss: 0.2801\n",
      "Epoch 11/100\n",
      "383/383 [==============================] - 12s 32ms/step - loss: 0.2710 - val_loss: 0.2535\n",
      "Epoch 12/100\n",
      "383/383 [==============================] - 12s 31ms/step - loss: 0.2620 - val_loss: 0.2787\n",
      "Epoch 13/100\n",
      "383/383 [==============================] - 12s 32ms/step - loss: 0.2576 - val_loss: 0.2842\n",
      "Epoch 1/100\n",
      "383/383 [==============================] - 12s 32ms/step - loss: 0.7094 - val_loss: 0.4634\n",
      "Epoch 2/100\n",
      "383/383 [==============================] - 12s 31ms/step - loss: 0.4228 - val_loss: 0.3664\n",
      "Epoch 3/100\n",
      "383/383 [==============================] - 12s 32ms/step - loss: 0.3592 - val_loss: 0.3010\n",
      "Epoch 4/100\n",
      "383/383 [==============================] - 12s 31ms/step - loss: 0.3180 - val_loss: 0.3168\n",
      "Epoch 5/100\n",
      "383/383 [==============================] - 12s 32ms/step - loss: 0.2998 - val_loss: 0.3029\n",
      "Epoch 1/100\n",
      "383/383 [==============================] - 12s 32ms/step - loss: 0.7193 - val_loss: 0.4006\n",
      "Epoch 2/100\n",
      "383/383 [==============================] - 12s 31ms/step - loss: 0.4064 - val_loss: 0.3385\n",
      "Epoch 3/100\n",
      "383/383 [==============================] - 12s 32ms/step - loss: 0.3488 - val_loss: 0.2977\n",
      "Epoch 4/100\n",
      "383/383 [==============================] - 12s 32ms/step - loss: 0.3173 - val_loss: 0.2919\n",
      "Epoch 5/100\n",
      "383/383 [==============================] - 12s 32ms/step - loss: 0.2930 - val_loss: 0.2765\n",
      "Epoch 6/100\n",
      "383/383 [==============================] - 12s 32ms/step - loss: 0.2752 - val_loss: 0.2746\n",
      "Epoch 7/100\n",
      "383/383 [==============================] - 12s 32ms/step - loss: 0.2604 - val_loss: 0.2685\n",
      "Epoch 8/100\n",
      "383/383 [==============================] - 12s 32ms/step - loss: 0.2514 - val_loss: 0.2615\n",
      "Epoch 9/100\n",
      "383/383 [==============================] - 12s 32ms/step - loss: 0.2383 - val_loss: 0.2412\n",
      "Epoch 10/100\n",
      "383/383 [==============================] - 12s 32ms/step - loss: 0.2282 - val_loss: 0.2715\n",
      "Epoch 11/100\n",
      "383/383 [==============================] - 12s 31ms/step - loss: 0.2238 - val_loss: 0.2570\n",
      "Epoch 1/100\n",
      "383/383 [==============================] - 12s 32ms/step - loss: 0.7094 - val_loss: 0.4590\n",
      "Epoch 2/100\n",
      "383/383 [==============================] - 12s 32ms/step - loss: 0.4482 - val_loss: 0.3644\n",
      "Epoch 3/100\n",
      "383/383 [==============================] - 12s 32ms/step - loss: 0.3743 - val_loss: 0.3422\n",
      "Epoch 4/100\n",
      "383/383 [==============================] - 12s 32ms/step - loss: 0.3409 - val_loss: 0.3003\n",
      "Epoch 5/100\n",
      "383/383 [==============================] - 12s 32ms/step - loss: 0.3107 - val_loss: 0.3047\n",
      "Epoch 6/100\n",
      "383/383 [==============================] - 12s 32ms/step - loss: 0.2874 - val_loss: 0.2690\n",
      "Epoch 7/100\n",
      "383/383 [==============================] - 12s 32ms/step - loss: 0.2753 - val_loss: 0.2685\n",
      "Epoch 8/100\n",
      "383/383 [==============================] - 12s 31ms/step - loss: 0.2588 - val_loss: 0.2611\n",
      "Epoch 9/100\n",
      "383/383 [==============================] - 12s 32ms/step - loss: 0.2521 - val_loss: 0.2621\n",
      "Epoch 10/100\n",
      "383/383 [==============================] - 12s 32ms/step - loss: 0.2372 - val_loss: 0.2647\n",
      "Epoch 1/100\n",
      "383/383 [==============================] - 12s 32ms/step - loss: 0.6682 - val_loss: 0.4223\n",
      "Epoch 2/100\n",
      "383/383 [==============================] - 12s 32ms/step - loss: 0.3957 - val_loss: 0.3262\n",
      "Epoch 3/100\n",
      "383/383 [==============================] - 12s 31ms/step - loss: 0.3283 - val_loss: 0.2924\n",
      "Epoch 4/100\n",
      "383/383 [==============================] - 12s 32ms/step - loss: 0.2980 - val_loss: 0.2905\n",
      "Epoch 5/100\n",
      "383/383 [==============================] - 12s 32ms/step - loss: 0.2734 - val_loss: 0.2636\n",
      "Epoch 6/100\n",
      "383/383 [==============================] - 12s 32ms/step - loss: 0.2628 - val_loss: 0.2591\n",
      "Epoch 7/100\n",
      "383/383 [==============================] - 12s 32ms/step - loss: 0.2442 - val_loss: 0.2548\n",
      "Epoch 8/100\n",
      "383/383 [==============================] - 12s 31ms/step - loss: 0.2297 - val_loss: 0.2630\n",
      "Epoch 9/100\n",
      "383/383 [==============================] - 12s 32ms/step - loss: 0.2204 - val_loss: 0.2440\n",
      "Epoch 10/100\n",
      "383/383 [==============================] - 12s 32ms/step - loss: 0.2115 - val_loss: 0.2513\n",
      "Epoch 11/100\n",
      "383/383 [==============================] - 12s 32ms/step - loss: 0.2060 - val_loss: 0.2451\n",
      "Epoch 1/100\n",
      "383/383 [==============================] - 12s 32ms/step - loss: 0.6754 - val_loss: 0.4252\n",
      "Epoch 2/100\n",
      "383/383 [==============================] - 12s 33ms/step - loss: 0.4026 - val_loss: 0.3248\n",
      "Epoch 3/100\n",
      "383/383 [==============================] - 12s 31ms/step - loss: 0.3450 - val_loss: 0.3124\n",
      "Epoch 4/100\n",
      "383/383 [==============================] - 12s 32ms/step - loss: 0.3092 - val_loss: 0.2716\n",
      "Epoch 5/100\n",
      "383/383 [==============================] - 12s 32ms/step - loss: 0.2837 - val_loss: 0.2677\n",
      "Epoch 6/100\n",
      "383/383 [==============================] - 12s 32ms/step - loss: 0.2704 - val_loss: 0.2678\n",
      "Epoch 1/100\n",
      "383/383 [==============================] - 12s 32ms/step - loss: 0.7216 - val_loss: 0.4478\n",
      "Epoch 2/100\n",
      "383/383 [==============================] - 12s 32ms/step - loss: 0.4646 - val_loss: 0.3508\n",
      "Epoch 3/100\n",
      "383/383 [==============================] - 12s 31ms/step - loss: 0.3857 - val_loss: 0.3256\n",
      "Epoch 4/100\n",
      "383/383 [==============================] - 12s 32ms/step - loss: 0.3431 - val_loss: 0.3225\n",
      "Epoch 5/100\n",
      "383/383 [==============================] - 12s 32ms/step - loss: 0.3207 - val_loss: 0.3068\n",
      "Epoch 6/100\n",
      "383/383 [==============================] - 12s 32ms/step - loss: 0.2996 - val_loss: 0.2846\n",
      "Epoch 7/100\n",
      "383/383 [==============================] - 12s 32ms/step - loss: 0.2801 - val_loss: 0.2678\n",
      "Epoch 8/100\n",
      "383/383 [==============================] - 12s 31ms/step - loss: 0.2679 - val_loss: 0.2633\n",
      "Epoch 9/100\n",
      "383/383 [==============================] - 12s 32ms/step - loss: 0.2584 - val_loss: 0.2731\n"
     ]
    }
   ],
   "source": [
    "# function to combine the model building and training process\n",
    "def build_train_cnn(seed):\n",
    "    model = build_cnn(hp, seed=seed)\n",
    "    train_cnn(model, seed, epochs=100, patience=2) # optimal arguments determined via single CNN above\n",
    "    return model\n",
    "\n",
    "# set ensemble size, initialize list in which ensemble constituents will be stored\n",
    "n_ensemble = 10\n",
    "# accumulate models\n",
    "cnns = [build_train_cnn(seed=seed) for seed in range(n_ensemble)]"
   ]
  },
  {
   "cell_type": "code",
   "execution_count": 38,
   "metadata": {},
   "outputs": [
    {
     "name": "stdout",
     "output_type": "stream",
     "text": [
      "0.22\n",
      "0.93\n"
     ]
    }
   ],
   "source": [
    "# predict on test set with each model\n",
    "probas_y = np.array([cnn_mod.predict(test_x) for cnn_mod in cnns])\n",
    "# average predictions across all models\n",
    "probas_y = probas_y.mean(axis=0)\n",
    "# compute log loss and accuracy\n",
    "print(f'{log_loss(test_y, probas_y):.2f}')\n",
    "preds_y = to_categorical((probas_y).argmax(axis=-1))\n",
    "print(f'{accuracy_score(test_y, preds_y):.2f}')"
   ]
  },
  {
   "cell_type": "markdown",
   "metadata": {},
   "source": [
    "The ensemble has improved the overall predictions, as expected."
   ]
  },
  {
   "cell_type": "markdown",
   "metadata": {},
   "source": [
    "# Step 5: Saving the model and predictions\n",
    "\n",
    "Save your predictions on the Score segment as a Pandas data frame into a variable named `score_y_hat`.\n",
    "\n",
    "The expected shape of the submitted data frame is `(7000, 10)`, where each column is the probability for each class. The sum of probabilities have to add up to 1. The order of the column has to match the `classes` data frame defined above.\n",
    "\n",
    "Finally, the data frame needs to have string column names in order to be saved as a Parquet file. If you convert a NumPy array to Pandas data frame, column names will be integers, but you can replace the columns names. There was a similar example of this in the notebook from the first assignment.\n",
    "\n",
    "In order to verify that your score_y_hat has the right shape and column names,\n",
    "you can run the following cell."
   ]
  },
  {
   "cell_type": "code",
   "execution_count": 55,
   "metadata": {},
   "outputs": [
    {
     "name": "stdout",
     "output_type": "stream",
     "text": [
      "7000\n",
      "7000.0\n"
     ]
    },
    {
     "data": {
      "text/plain": [
       "((7000, 10),\n",
       " Index(['T-shirt/top', 'Trouser', 'Pullover', 'Dress', 'Coat', 'Sandal',\n",
       "        'Shirt', 'Sneaker', 'Bag', 'Ankle boot'],\n",
       "       dtype='object', name='label'))"
      ]
     },
     "execution_count": 55,
     "metadata": {},
     "output_type": "execute_result"
    }
   ],
   "source": [
    "# predict on score set with each model\n",
    "score_y_hat = np.array([cnn_mod.predict(score_x) for cnn_mod in cnns])\n",
    "# average predictions across all models\n",
    "score_y_hat = score_y_hat.mean(axis=0)\n",
    "# ensure that probabilities add up to 1\n",
    "sums = score_y_hat.sum(axis=1)\n",
    "print(len(sums))\n",
    "print(np.sum(sums))\n",
    "# fix column names\n",
    "score_y_hat = pd.DataFrame(score_y_hat, columns=classes['label'])\n",
    "# confirm shape and column names\n",
    "score_y_hat.shape, score_y_hat.columns"
   ]
  },
  {
   "cell_type": "code",
   "execution_count": 60,
   "metadata": {},
   "outputs": [
    {
     "data": {
      "text/html": [
       "<div>\n",
       "<style scoped>\n",
       "    .dataframe tbody tr th:only-of-type {\n",
       "        vertical-align: middle;\n",
       "    }\n",
       "\n",
       "    .dataframe tbody tr th {\n",
       "        vertical-align: top;\n",
       "    }\n",
       "\n",
       "    .dataframe thead th {\n",
       "        text-align: right;\n",
       "    }\n",
       "</style>\n",
       "<table border=\"1\" class=\"dataframe\">\n",
       "  <thead>\n",
       "    <tr style=\"text-align: right;\">\n",
       "      <th>label</th>\n",
       "      <th>T-shirt/top</th>\n",
       "      <th>Trouser</th>\n",
       "      <th>Pullover</th>\n",
       "      <th>Dress</th>\n",
       "      <th>Coat</th>\n",
       "      <th>Sandal</th>\n",
       "      <th>Shirt</th>\n",
       "      <th>Sneaker</th>\n",
       "      <th>Bag</th>\n",
       "      <th>Ankle boot</th>\n",
       "    </tr>\n",
       "  </thead>\n",
       "  <tbody>\n",
       "    <tr>\n",
       "      <th>0</th>\n",
       "      <td>4.44e-01</td>\n",
       "      <td>1.91e-03</td>\n",
       "      <td>1.07e-01</td>\n",
       "      <td>2.83e-02</td>\n",
       "      <td>1.04e-02</td>\n",
       "      <td>7.83e-04</td>\n",
       "      <td>3.81e-01</td>\n",
       "      <td>3.15e-04</td>\n",
       "      <td>2.62e-02</td>\n",
       "      <td>5.43e-04</td>\n",
       "    </tr>\n",
       "    <tr>\n",
       "      <th>1</th>\n",
       "      <td>3.89e-01</td>\n",
       "      <td>1.56e-05</td>\n",
       "      <td>2.63e-03</td>\n",
       "      <td>2.34e-03</td>\n",
       "      <td>6.50e-04</td>\n",
       "      <td>3.14e-07</td>\n",
       "      <td>6.06e-01</td>\n",
       "      <td>1.03e-06</td>\n",
       "      <td>1.23e-04</td>\n",
       "      <td>4.16e-07</td>\n",
       "    </tr>\n",
       "    <tr>\n",
       "      <th>2</th>\n",
       "      <td>9.49e-07</td>\n",
       "      <td>1.00e+00</td>\n",
       "      <td>5.15e-06</td>\n",
       "      <td>2.00e-06</td>\n",
       "      <td>1.77e-05</td>\n",
       "      <td>3.65e-10</td>\n",
       "      <td>4.12e-07</td>\n",
       "      <td>2.89e-11</td>\n",
       "      <td>2.00e-08</td>\n",
       "      <td>8.64e-13</td>\n",
       "    </tr>\n",
       "    <tr>\n",
       "      <th>3</th>\n",
       "      <td>9.80e-01</td>\n",
       "      <td>2.82e-06</td>\n",
       "      <td>1.87e-03</td>\n",
       "      <td>2.98e-04</td>\n",
       "      <td>4.39e-06</td>\n",
       "      <td>2.79e-06</td>\n",
       "      <td>1.74e-02</td>\n",
       "      <td>3.88e-09</td>\n",
       "      <td>2.35e-05</td>\n",
       "      <td>4.48e-07</td>\n",
       "    </tr>\n",
       "    <tr>\n",
       "      <th>4</th>\n",
       "      <td>8.40e-04</td>\n",
       "      <td>4.21e-07</td>\n",
       "      <td>9.76e-01</td>\n",
       "      <td>2.60e-04</td>\n",
       "      <td>8.40e-03</td>\n",
       "      <td>4.01e-05</td>\n",
       "      <td>1.47e-02</td>\n",
       "      <td>4.45e-07</td>\n",
       "      <td>2.26e-05</td>\n",
       "      <td>7.30e-06</td>\n",
       "    </tr>\n",
       "    <tr>\n",
       "      <th>...</th>\n",
       "      <td>...</td>\n",
       "      <td>...</td>\n",
       "      <td>...</td>\n",
       "      <td>...</td>\n",
       "      <td>...</td>\n",
       "      <td>...</td>\n",
       "      <td>...</td>\n",
       "      <td>...</td>\n",
       "      <td>...</td>\n",
       "      <td>...</td>\n",
       "    </tr>\n",
       "    <tr>\n",
       "      <th>6995</th>\n",
       "      <td>9.89e-01</td>\n",
       "      <td>5.66e-06</td>\n",
       "      <td>1.73e-03</td>\n",
       "      <td>6.44e-04</td>\n",
       "      <td>1.24e-05</td>\n",
       "      <td>5.61e-06</td>\n",
       "      <td>9.03e-03</td>\n",
       "      <td>9.96e-09</td>\n",
       "      <td>2.54e-05</td>\n",
       "      <td>1.30e-06</td>\n",
       "    </tr>\n",
       "    <tr>\n",
       "      <th>6996</th>\n",
       "      <td>1.23e-02</td>\n",
       "      <td>1.01e-04</td>\n",
       "      <td>3.63e-02</td>\n",
       "      <td>3.49e-03</td>\n",
       "      <td>3.35e-02</td>\n",
       "      <td>2.46e-06</td>\n",
       "      <td>9.13e-01</td>\n",
       "      <td>1.27e-06</td>\n",
       "      <td>1.05e-03</td>\n",
       "      <td>2.22e-06</td>\n",
       "    </tr>\n",
       "    <tr>\n",
       "      <th>6997</th>\n",
       "      <td>3.21e-08</td>\n",
       "      <td>2.90e-14</td>\n",
       "      <td>9.94e-10</td>\n",
       "      <td>5.90e-13</td>\n",
       "      <td>9.67e-12</td>\n",
       "      <td>1.70e-09</td>\n",
       "      <td>9.73e-11</td>\n",
       "      <td>1.06e-09</td>\n",
       "      <td>1.00e+00</td>\n",
       "      <td>4.64e-09</td>\n",
       "    </tr>\n",
       "    <tr>\n",
       "      <th>6998</th>\n",
       "      <td>9.59e-03</td>\n",
       "      <td>5.04e-05</td>\n",
       "      <td>4.56e-04</td>\n",
       "      <td>3.38e-04</td>\n",
       "      <td>8.18e-04</td>\n",
       "      <td>7.83e-05</td>\n",
       "      <td>5.83e-03</td>\n",
       "      <td>3.62e-05</td>\n",
       "      <td>9.83e-01</td>\n",
       "      <td>1.98e-04</td>\n",
       "    </tr>\n",
       "    <tr>\n",
       "      <th>6999</th>\n",
       "      <td>3.15e-03</td>\n",
       "      <td>9.49e-01</td>\n",
       "      <td>5.73e-03</td>\n",
       "      <td>8.72e-03</td>\n",
       "      <td>2.33e-02</td>\n",
       "      <td>9.32e-05</td>\n",
       "      <td>9.09e-03</td>\n",
       "      <td>2.02e-05</td>\n",
       "      <td>6.93e-04</td>\n",
       "      <td>2.76e-05</td>\n",
       "    </tr>\n",
       "  </tbody>\n",
       "</table>\n",
       "<p>7000 rows × 10 columns</p>\n",
       "</div>"
      ],
      "text/plain": [
       "label  T-shirt/top   Trouser  Pullover     Dress      Coat    Sandal  \\\n",
       "0         4.44e-01  1.91e-03  1.07e-01  2.83e-02  1.04e-02  7.83e-04   \n",
       "1         3.89e-01  1.56e-05  2.63e-03  2.34e-03  6.50e-04  3.14e-07   \n",
       "2         9.49e-07  1.00e+00  5.15e-06  2.00e-06  1.77e-05  3.65e-10   \n",
       "3         9.80e-01  2.82e-06  1.87e-03  2.98e-04  4.39e-06  2.79e-06   \n",
       "4         8.40e-04  4.21e-07  9.76e-01  2.60e-04  8.40e-03  4.01e-05   \n",
       "...            ...       ...       ...       ...       ...       ...   \n",
       "6995      9.89e-01  5.66e-06  1.73e-03  6.44e-04  1.24e-05  5.61e-06   \n",
       "6996      1.23e-02  1.01e-04  3.63e-02  3.49e-03  3.35e-02  2.46e-06   \n",
       "6997      3.21e-08  2.90e-14  9.94e-10  5.90e-13  9.67e-12  1.70e-09   \n",
       "6998      9.59e-03  5.04e-05  4.56e-04  3.38e-04  8.18e-04  7.83e-05   \n",
       "6999      3.15e-03  9.49e-01  5.73e-03  8.72e-03  2.33e-02  9.32e-05   \n",
       "\n",
       "label     Shirt   Sneaker       Bag  Ankle boot  \n",
       "0      3.81e-01  3.15e-04  2.62e-02    5.43e-04  \n",
       "1      6.06e-01  1.03e-06  1.23e-04    4.16e-07  \n",
       "2      4.12e-07  2.89e-11  2.00e-08    8.64e-13  \n",
       "3      1.74e-02  3.88e-09  2.35e-05    4.48e-07  \n",
       "4      1.47e-02  4.45e-07  2.26e-05    7.30e-06  \n",
       "...         ...       ...       ...         ...  \n",
       "6995   9.03e-03  9.96e-09  2.54e-05    1.30e-06  \n",
       "6996   9.13e-01  1.27e-06  1.05e-03    2.22e-06  \n",
       "6997   9.73e-11  1.06e-09  1.00e+00    4.64e-09  \n",
       "6998   5.83e-03  3.62e-05  9.83e-01    1.98e-04  \n",
       "6999   9.09e-03  2.02e-05  6.93e-04    2.76e-05  \n",
       "\n",
       "[7000 rows x 10 columns]"
      ]
     },
     "execution_count": 60,
     "metadata": {},
     "output_type": "execute_result"
    }
   ],
   "source": [
    "score_y_hat"
   ]
  },
  {
   "cell_type": "code",
   "execution_count": 61,
   "metadata": {},
   "outputs": [],
   "source": [
    "# Once you are ready to make the graded submission,\n",
    "# run the model on the score segment,\n",
    "# and save the results as a Parquet file:\n",
    "\n",
    "import os \n",
    "model_dir = 'fashionnet_model'\n",
    "os.makedirs(model_dir, exist_ok=True)\n",
    "\n",
    "score_y_hat.to_parquet(f'{model_dir}/score_y_hat.parquet')\n",
    "\n",
    "# Next, let's save the model's definition (pack this step into a loop since we have multiple models)\n",
    "import json\n",
    "for i,cnn in enumerate(cnns):\n",
    "    \n",
    "    with open(f'{model_dir}/keras_model_{i+1}.json', 'w') as f:\n",
    "        f.write(json.dumps(json.loads(cnn.to_json()), indent=True))\n",
    "\n",
    "    # Finally, let's save the learned parameters.\n",
    "    cnn.save_weights(f\"{model_dir}/keras_parameters_{i+1}.h5\")\n",
    "\n",
    "# You now have the following files to be submitted:\n",
    "# 1. This notebook and any other Python code you used to train the final model.\n",
    "# 2. keras_model.json -- the model's definition\n",
    "# 3. keras_parameters.json -- the model's trained parameters\n",
    "# 4. score_y_hat.parquet - the model's output on the score dataset"
   ]
  }
 ],
 "metadata": {
  "kernelspec": {
   "display_name": "Python 3",
   "language": "python",
   "name": "python3"
  },
  "language_info": {
   "codemirror_mode": {
    "name": "ipython",
    "version": 3
   },
   "file_extension": ".py",
   "mimetype": "text/x-python",
   "name": "python",
   "nbconvert_exporter": "python",
   "pygments_lexer": "ipython3",
   "version": "3.7.10"
  }
 },
 "nbformat": 4,
 "nbformat_minor": 4
}
