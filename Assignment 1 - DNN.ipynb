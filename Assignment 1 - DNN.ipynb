{
 "cells": [
  {
   "cell_type": "code",
   "execution_count": 1,
   "metadata": {},
   "outputs": [],
   "source": [
    "# In this assingnment, we will be using Pandas dataframes\n",
    "# to read, transform, and store MNIST images. Make sure\n",
    "# you are familiar with its API:\n",
    "# https://pandas.pydata.org/pandas-docs/stable/\n",
    "\n",
    "import pandas as pd"
   ]
  },
  {
   "cell_type": "code",
   "execution_count": 2,
   "metadata": {},
   "outputs": [],
   "source": [
    "# Enter here the Dataset ID that you have received in the spreadsheet.\n",
    "# Make sure that you use the ID that was assigned to you, \n",
    "# otherwise your submission will be graded against the wrong images.\n",
    "dataset_id = '20210923-193932_c2e2466f153fd677fc77778d2775d1d8'\n",
    "\n",
    "# Assignment datasets are stored in an AWS S3 bucket. The following code\n",
    "# downloads your dataset (~300MB) directly into RAM. Optionally,\n",
    "# you can save the datasets to the local disk, but that's really not required.\n",
    "prefix = f'https://danylo-ucla.s3-us-west-2.amazonaws.com/app/storage/mnist/jobs/transform_repack/{dataset_id}'\n",
    "\n",
    "# These three dataframes contain clean images. Use each dataframe\n",
    "# to train, validate, and test your model, respectively.\n",
    "train_clean_X = pd.read_parquet(f'{prefix}/train_clean_x.parquet')\n",
    "validate_clean_X = pd.read_parquet(f'{prefix}/validate_clean_x.parquet')\n",
    "test_clean_X = pd.read_parquet(f'{prefix}/test_clean_x.parquet')\n",
    "\n",
    "# These dataframes are noisy versions of the dataframes above.\n",
    "train_noisy_X = pd.read_parquet(f'{prefix}/train_noisy_x.parquet')\n",
    "validate_noisy_X = pd.read_parquet(f'{prefix}/validate_noisy_x.parquet')\n",
    "test_noisy_X = pd.read_parquet(f'{prefix}/test_noisy_x.parquet')\n",
    "\n",
    "# This is the segment of the dataset that will be graded in this assignment.\n",
    "# Your model has to denoise this dataframe, and you have to submit the denoised version of this dataframe.\n",
    "score_noisy_X = pd.read_parquet(f'{prefix}/score_noisy_x.parquet')\n",
    "\n",
    "# For additional context, these are labels (e.g. digits) corresponding\n",
    "# to each image in the dataset. Use it to analyze which digits\n",
    "# your models has more or less problems with. These dataframes\n",
    "# should not be used as part of the training process itself,\n",
    "# only for post-training analysis, if you wish so.\n",
    "train_y = pd.read_parquet(f'{prefix}/train_y.parquet')\n",
    "validate_y = pd.read_parquet(f'{prefix}/validate_y.parquet')\n",
    "test_y = pd.read_parquet(f'{prefix}/test_y.parquet')"
   ]
  },
  {
   "cell_type": "code",
   "execution_count": 3,
   "metadata": {},
   "outputs": [],
   "source": [
    "# While not strictly required for this assignment,\n",
    "# you will probably want to plot images to\n",
    "# have a visual understanding of the model's performance.\n",
    "# You can use any Python plotting library, for example:\n",
    "# https://matplotlib.org/contents.html\n",
    "\n",
    "import matplotlib.pyplot as plt\n",
    "%config InlineBackend.figure_format = 'retina'"
   ]
  },
  {
   "cell_type": "code",
   "execution_count": 4,
   "metadata": {},
   "outputs": [
    {
     "data": {
      "text/plain": [
       "(49000, 784)"
      ]
     },
     "execution_count": 4,
     "metadata": {},
     "output_type": "execute_result"
    }
   ],
   "source": [
    "# Just as in the lecture slides, the input matrix\n",
    "# has row vectors that hold pixels of a single 28x28 image.\n",
    "# Note that the column vectors are individual locations on\n",
    "# the 28x28 grid, but flattened in a row-major way (28x28=784).\n",
    "train_clean_X.shape"
   ]
  },
  {
   "cell_type": "code",
   "execution_count": 5,
   "metadata": {},
   "outputs": [],
   "source": [
    "example_id = 1"
   ]
  },
  {
   "cell_type": "code",
   "execution_count": 6,
   "metadata": {},
   "outputs": [
    {
     "data": {
      "text/plain": [
       "<matplotlib.image.AxesImage at 0x7fb3e8de4cd0>"
      ]
     },
     "execution_count": 6,
     "metadata": {},
     "output_type": "execute_result"
    },
    {
     "data": {
      "image/png": "[encoded data removed]",
      "text/plain": [
       "<Figure size 432x288 with 1 Axes>"
      ]
     },
     "metadata": {
      "image/png": {
       "height": 248,
       "width": 251
      },
      "needs_background": "light"
     },
     "output_type": "display_data"
    }
   ],
   "source": [
    "# Let's select a clean image from the dataset\n",
    "image_pixels = train_clean_X.iloc[example_id]\n",
    "\n",
    "# In order to plot an image, you need to reshape\n",
    "# the flattened array back into a 28x28 grid.\n",
    "image_pixels = image_pixels.values.reshape(28, 28)\n",
    "\n",
    "plt.imshow(image_pixels, cmap='binary')"
   ]
  },
  {
   "cell_type": "code",
   "execution_count": 7,
   "metadata": {},
   "outputs": [
    {
     "data": {
      "text/plain": [
       "<matplotlib.image.AxesImage at 0x7fb3e8ce9100>"
      ]
     },
     "execution_count": 7,
     "metadata": {},
     "output_type": "execute_result"
    },
    {
     "data": {
      "image/png": "[encoded data removed]",
      "text/plain": [
       "<Figure size 432x288 with 1 Axes>"
      ]
     },
     "metadata": {
      "image/png": {
       "height": 248,
       "width": 251
      },
      "needs_background": "light"
     },
     "output_type": "display_data"
    }
   ],
   "source": [
    "# Let's select a noisy image from the dataset\n",
    "image_pixels = train_noisy_X.iloc[example_id]\n",
    "\n",
    "# In order to plot an image, you need to reshape\n",
    "# the flattened array back into a 28x28 grid.\n",
    "image_pixels = image_pixels.values.reshape(28, 28)\n",
    "\n",
    "plt.imshow(image_pixels, cmap='binary')"
   ]
  },
  {
   "cell_type": "code",
   "execution_count": 8,
   "metadata": {},
   "outputs": [
    {
     "data": {
      "text/plain": [
       "digit    5\n",
       "Name: 1, dtype: uint8"
      ]
     },
     "execution_count": 8,
     "metadata": {},
     "output_type": "execute_result"
    }
   ],
   "source": [
    "train_y.iloc[example_id]"
   ]
  },
  {
   "cell_type": "code",
   "execution_count": 9,
   "metadata": {},
   "outputs": [
    {
     "name": "stdout",
     "output_type": "stream",
     "text": [
      "PhysicalDevice(name='/physical_device:GPU:0', device_type='GPU')\n"
     ]
    },
    {
     "name": "stderr",
     "output_type": "stream",
     "text": [
      "2021-10-01 18:11:50.846153: I tensorflow/stream_executor/platform/default/dso_loader.cc:44] Successfully opened dynamic library libcuda.so.1\n",
      "2021-10-01 18:11:50.894400: I tensorflow/stream_executor/cuda/cuda_gpu_executor.cc:981] successful NUMA node read from SysFS had negative value (-1), but there must be at least one NUMA node, so returning NUMA node zero\n",
      "2021-10-01 18:11:50.895283: I tensorflow/core/common_runtime/gpu/gpu_device.cc:1561] Found device 0 with properties: \n",
      "pciBusID: 0000:00:1e.0 name: Tesla K80 computeCapability: 3.7\n",
      "coreClock: 0.8235GHz coreCount: 13 deviceMemorySize: 11.17GiB deviceMemoryBandwidth: 223.96GiB/s\n",
      "2021-10-01 18:11:50.895565: I tensorflow/stream_executor/platform/default/dso_loader.cc:44] Successfully opened dynamic library libcudart.so.10.1\n",
      "2021-10-01 18:11:50.897625: I tensorflow/stream_executor/platform/default/dso_loader.cc:44] Successfully opened dynamic library libcublas.so.10\n",
      "2021-10-01 18:11:50.899688: I tensorflow/stream_executor/platform/default/dso_loader.cc:44] Successfully opened dynamic library libcufft.so.10\n",
      "2021-10-01 18:11:50.900017: I tensorflow/stream_executor/platform/default/dso_loader.cc:44] Successfully opened dynamic library libcurand.so.10\n",
      "2021-10-01 18:11:50.902086: I tensorflow/stream_executor/platform/default/dso_loader.cc:44] Successfully opened dynamic library libcusolver.so.10\n",
      "2021-10-01 18:11:50.902977: I tensorflow/stream_executor/platform/default/dso_loader.cc:44] Successfully opened dynamic library libcusparse.so.10\n",
      "2021-10-01 18:11:50.907340: I tensorflow/stream_executor/platform/default/dso_loader.cc:44] Successfully opened dynamic library libcudnn.so.7\n",
      "2021-10-01 18:11:50.907543: I tensorflow/stream_executor/cuda/cuda_gpu_executor.cc:981] successful NUMA node read from SysFS had negative value (-1), but there must be at least one NUMA node, so returning NUMA node zero\n",
      "2021-10-01 18:11:50.908433: I tensorflow/stream_executor/cuda/cuda_gpu_executor.cc:981] successful NUMA node read from SysFS had negative value (-1), but there must be at least one NUMA node, so returning NUMA node zero\n",
      "2021-10-01 18:11:50.909175: I tensorflow/core/common_runtime/gpu/gpu_device.cc:1703] Adding visible gpu devices: 0\n"
     ]
    }
   ],
   "source": [
    "# # Run this cell to configure Tensorflow to use your GPU\n",
    "import tensorflow as tf\n",
    "for gpu in tf.config.experimental.list_physical_devices('GPU'):\n",
    "    print(gpu)\n",
    "    tf.config.experimental.set_memory_growth(gpu, True)"
   ]
  },
  {
   "cell_type": "code",
   "execution_count": 12,
   "metadata": {},
   "outputs": [],
   "source": [
    "# In this couse, all assignments are expected to be\n",
    "# implemented with Tensorflow framework.\n",
    "# For this task, we can use its high-level Keras API:\n",
    "# https://keras.io\n",
    "\n",
    "# Your work from here forward (please document your code as much as possible)\n",
    "\n",
    "from tensorflow.keras.layers import Input, Dense\n",
    "from tensorflow.keras.models import Sequential\n",
    "from tensorflow.keras import optimizers\n",
    "from tensorflow.keras import regularizers\n",
    "from kerastuner.engine.hyperparameters import HyperParameters\n",
    "\n",
    "def build_model(hp: HyperParameters):\n",
    "    \n",
    "    layers = [\n",
    "        # encoder: variable number of nodes, exponential linear unit activation, l1 regularization\n",
    "        Dense(\n",
    "            units=hp.Int('encoder_width', min_value=184, max_value=1384, step=100, default=784), \n",
    "            activation=hp.Choice('activation', ['elu', 'relu']),\n",
    "            activity_regularizer=regularizers.l1(hp.Float('rglrz_param', min_value=1e-5, max_value=2e-4,\n",
    "                                                           sampling='log', default=1e-4)), \n",
    "            input_shape=(28 * 28,)\n",
    "        ),\n",
    "\n",
    "        # decoder: matches the shape of the image\n",
    "        # sigmoid activation is needed because pixel values are real numbers between 0 (black) and 1 (white).\n",
    "        Dense(units=28*28, activation='sigmoid')\n",
    "    ]\n",
    "\n",
    "    autoencoder = Sequential(layers)\n",
    "\n",
    "    # using MSE as the loss function, and Adam optimizer\n",
    "    autoencoder.compile(\n",
    "        optimizer=optimizers.Adam(\n",
    "            lr=hp.Float(name='learning_rate', min_value=1e-5, max_value=1e-1, sampling='log')\n",
    "        ), \n",
    "        loss='mean_squared_error'\n",
    "    )\n",
    "    \n",
    "    return autoencoder"
   ]
  },
  {
   "cell_type": "code",
   "execution_count": 13,
   "metadata": {},
   "outputs": [],
   "source": [
    "from tensorflow.keras import callbacks\n",
    "\n",
    "def train_model(model, epochs):\n",
    "    history = model.fit(\n",
    "        \n",
    "        # for denoising mode, we need x to be x_train_noisy and y to be x_train_clean\n",
    "        # similarly, the validation data should be (x_test_noisy, x_test_clean)\n",
    "        \n",
    "        x=train_noisy_X, \n",
    "        y=train_clean_X,\n",
    "\n",
    "        # in general, we'll use a low number of epochs to test the learning process\n",
    "        # but not for the final model training\n",
    "        epochs=epochs,\n",
    "\n",
    "        batch_size=128,\n",
    "        shuffle=True,\n",
    "        validation_data=(validate_noisy_X, validate_clean_X),\n",
    "        callbacks = [callbacks.EarlyStopping(monitor='val_loss', patience=5)]\n",
    "    )\n",
    "    return history"
   ]
  },
  {
   "cell_type": "code",
   "execution_count": 14,
   "metadata": {},
   "outputs": [
    {
     "name": "stderr",
     "output_type": "stream",
     "text": [
      "2021-10-01 18:19:15.518256: I tensorflow/core/platform/cpu_feature_guard.cc:143] Your CPU supports instructions that this TensorFlow binary was not compiled to use: SSE4.1 SSE4.2 AVX AVX2 FMA\n",
      "2021-10-01 18:19:15.543214: I tensorflow/core/platform/profile_utils/cpu_utils.cc:102] CPU Frequency: 2300015000 Hz\n",
      "2021-10-01 18:19:15.543533: I tensorflow/compiler/xla/service/service.cc:168] XLA service 0x564e4f08eaf0 initialized for platform Host (this does not guarantee that XLA will be used). Devices:\n",
      "2021-10-01 18:19:15.543554: I tensorflow/compiler/xla/service/service.cc:176]   StreamExecutor device (0): Host, Default Version\n",
      "2021-10-01 18:19:15.543951: I tensorflow/stream_executor/cuda/cuda_gpu_executor.cc:981] successful NUMA node read from SysFS had negative value (-1), but there must be at least one NUMA node, so returning NUMA node zero\n",
      "2021-10-01 18:19:15.544812: I tensorflow/core/common_runtime/gpu/gpu_device.cc:1561] Found device 0 with properties: \n",
      "pciBusID: 0000:00:1e.0 name: Tesla K80 computeCapability: 3.7\n",
      "coreClock: 0.8235GHz coreCount: 13 deviceMemorySize: 11.17GiB deviceMemoryBandwidth: 223.96GiB/s\n",
      "2021-10-01 18:19:15.544900: I tensorflow/stream_executor/platform/default/dso_loader.cc:44] Successfully opened dynamic library libcudart.so.10.1\n",
      "2021-10-01 18:19:15.544925: I tensorflow/stream_executor/platform/default/dso_loader.cc:44] Successfully opened dynamic library libcublas.so.10\n",
      "2021-10-01 18:19:15.544947: I tensorflow/stream_executor/platform/default/dso_loader.cc:44] Successfully opened dynamic library libcufft.so.10\n",
      "2021-10-01 18:19:15.544969: I tensorflow/stream_executor/platform/default/dso_loader.cc:44] Successfully opened dynamic library libcurand.so.10\n",
      "2021-10-01 18:19:15.544990: I tensorflow/stream_executor/platform/default/dso_loader.cc:44] Successfully opened dynamic library libcusolver.so.10\n",
      "2021-10-01 18:19:15.545011: I tensorflow/stream_executor/platform/default/dso_loader.cc:44] Successfully opened dynamic library libcusparse.so.10\n",
      "2021-10-01 18:19:15.545033: I tensorflow/stream_executor/platform/default/dso_loader.cc:44] Successfully opened dynamic library libcudnn.so.7\n",
      "2021-10-01 18:19:15.545116: I tensorflow/stream_executor/cuda/cuda_gpu_executor.cc:981] successful NUMA node read from SysFS had negative value (-1), but there must be at least one NUMA node, so returning NUMA node zero\n",
      "2021-10-01 18:19:15.545927: I tensorflow/stream_executor/cuda/cuda_gpu_executor.cc:981] successful NUMA node read from SysFS had negative value (-1), but there must be at least one NUMA node, so returning NUMA node zero\n",
      "2021-10-01 18:19:15.546661: I tensorflow/core/common_runtime/gpu/gpu_device.cc:1703] Adding visible gpu devices: 0\n",
      "2021-10-01 18:19:15.546715: I tensorflow/stream_executor/platform/default/dso_loader.cc:44] Successfully opened dynamic library libcudart.so.10.1\n",
      "2021-10-01 18:19:15.612563: I tensorflow/core/common_runtime/gpu/gpu_device.cc:1102] Device interconnect StreamExecutor with strength 1 edge matrix:\n",
      "2021-10-01 18:19:15.612597: I tensorflow/core/common_runtime/gpu/gpu_device.cc:1108]      0 \n",
      "2021-10-01 18:19:15.612605: I tensorflow/core/common_runtime/gpu/gpu_device.cc:1121] 0:   N \n",
      "2021-10-01 18:19:15.612939: I tensorflow/stream_executor/cuda/cuda_gpu_executor.cc:981] successful NUMA node read from SysFS had negative value (-1), but there must be at least one NUMA node, so returning NUMA node zero\n",
      "2021-10-01 18:19:15.613784: I tensorflow/stream_executor/cuda/cuda_gpu_executor.cc:981] successful NUMA node read from SysFS had negative value (-1), but there must be at least one NUMA node, so returning NUMA node zero\n",
      "2021-10-01 18:19:15.614585: I tensorflow/stream_executor/cuda/cuda_gpu_executor.cc:981] successful NUMA node read from SysFS had negative value (-1), but there must be at least one NUMA node, so returning NUMA node zero\n",
      "2021-10-01 18:19:15.615389: I tensorflow/core/common_runtime/gpu/gpu_device.cc:1247] Created TensorFlow device (/job:localhost/replica:0/task:0/device:GPU:0 with 10699 MB memory) -> physical GPU (device: 0, name: Tesla K80, pci bus id: 0000:00:1e.0, compute capability: 3.7)\n",
      "2021-10-01 18:19:15.617886: I tensorflow/compiler/xla/service/service.cc:168] XLA service 0x564e4f563ab0 initialized for platform CUDA (this does not guarantee that XLA will be used). Devices:\n",
      "2021-10-01 18:19:15.617904: I tensorflow/compiler/xla/service/service.cc:176]   StreamExecutor device (0): Tesla K80, Compute Capability 3.7\n"
     ]
    },
    {
     "name": "stdout",
     "output_type": "stream",
     "text": [
      "Epoch 1/20\n",
      "  1/383 [..............................] - ETA: 0s - loss: 0.2382"
     ]
    },
    {
     "name": "stderr",
     "output_type": "stream",
     "text": [
      "2021-10-01 18:19:17.539431: I tensorflow/stream_executor/platform/default/dso_loader.cc:44] Successfully opened dynamic library libcublas.so.10\n"
     ]
    },
    {
     "name": "stdout",
     "output_type": "stream",
     "text": [
      "383/383 [==============================] - 2s 4ms/step - loss: 0.0549 - val_loss: 0.0317\n",
      "Epoch 2/20\n",
      "383/383 [==============================] - 1s 4ms/step - loss: 0.0266 - val_loss: 0.0228\n",
      "Epoch 3/20\n",
      "383/383 [==============================] - 2s 4ms/step - loss: 0.0204 - val_loss: 0.0185\n",
      "Epoch 4/20\n",
      "383/383 [==============================] - 1s 4ms/step - loss: 0.0172 - val_loss: 0.0162\n",
      "Epoch 5/20\n",
      "383/383 [==============================] - 1s 4ms/step - loss: 0.0152 - val_loss: 0.0144\n",
      "Epoch 6/20\n",
      "383/383 [==============================] - 1s 4ms/step - loss: 0.0138 - val_loss: 0.0134\n",
      "Epoch 7/20\n",
      "383/383 [==============================] - 1s 4ms/step - loss: 0.0128 - val_loss: 0.0124\n",
      "Epoch 8/20\n",
      "383/383 [==============================] - 1s 4ms/step - loss: 0.0119 - val_loss: 0.0117\n",
      "Epoch 9/20\n",
      "383/383 [==============================] - 1s 4ms/step - loss: 0.0113 - val_loss: 0.0112\n",
      "Epoch 10/20\n",
      "383/383 [==============================] - 1s 4ms/step - loss: 0.0108 - val_loss: 0.0106\n",
      "Epoch 11/20\n",
      "383/383 [==============================] - 1s 4ms/step - loss: 0.0102 - val_loss: 0.0101\n",
      "Epoch 12/20\n",
      "383/383 [==============================] - 1s 4ms/step - loss: 0.0098 - val_loss: 0.0098\n",
      "Epoch 13/20\n",
      "383/383 [==============================] - 1s 4ms/step - loss: 0.0094 - val_loss: 0.0094\n",
      "Epoch 14/20\n",
      "383/383 [==============================] - 1s 4ms/step - loss: 0.0091 - val_loss: 0.0091\n",
      "Epoch 15/20\n",
      "383/383 [==============================] - 2s 4ms/step - loss: 0.0089 - val_loss: 0.0088\n",
      "Epoch 16/20\n",
      "383/383 [==============================] - 1s 4ms/step - loss: 0.0086 - val_loss: 0.0087\n",
      "Epoch 17/20\n",
      "383/383 [==============================] - 1s 4ms/step - loss: 0.0084 - val_loss: 0.0084\n",
      "Epoch 18/20\n",
      "383/383 [==============================] - 1s 4ms/step - loss: 0.0082 - val_loss: 0.0083\n",
      "Epoch 19/20\n",
      "383/383 [==============================] - 1s 4ms/step - loss: 0.0081 - val_loss: 0.0081\n",
      "Epoch 20/20\n",
      "383/383 [==============================] - 1s 4ms/step - loss: 0.0079 - val_loss: 0.0080\n"
     ]
    }
   ],
   "source": [
    "# set the seed values for numpy and tensorflow to get reproducible results\n",
    "import numpy as np\n",
    "import tensorflow as tf\n",
    "\n",
    "np.random.seed(11)\n",
    "tf.random.set_seed(11)\n",
    "\n",
    "hp = HyperParameters()\n",
    "hp.Fixed('encoder_width', value=100)\n",
    "hp.Fixed('learning_rate', value=0.001)\n",
    "\n",
    "autoencoder = build_model(hp)\n",
    "history = train_model(autoencoder, epochs=20)"
   ]
  },
  {
   "cell_type": "code",
   "execution_count": 15,
   "metadata": {},
   "outputs": [
    {
     "data": {
      "image/png": "[encoded data removed]",
      "text/plain": [
       "<Figure size 432x288 with 1 Axes>"
      ]
     },
     "metadata": {
      "image/png": {
       "height": 263,
       "width": 378
      },
      "needs_background": "light"
     },
     "output_type": "display_data"
    }
   ],
   "source": [
    "# fit method returns a history object that can be used to plot the learning curve\n",
    "\n",
    "learning_curve = pd.Series(history.history['loss'])\n",
    "learning_curve.index = learning_curve.index + 1\n",
    "\n",
    "learning_curve.plot(title='Learning Curve')\n",
    "plt.xticks(learning_curve.index)\n",
    "plt.show()"
   ]
  },
  {
   "cell_type": "code",
   "execution_count": 16,
   "metadata": {},
   "outputs": [
    {
     "name": "stdout",
     "output_type": "stream",
     "text": [
      "Search space summary\n",
      "Default search space size: 4\n",
      "encoder_width (Int)\n",
      "{'default': 784, 'conditions': [], 'min_value': 184, 'max_value': 1384, 'step': 100, 'sampling': None}\n",
      "activation (Choice)\n",
      "{'default': 'elu', 'conditions': [], 'values': ['elu', 'relu'], 'ordered': False}\n",
      "rglrz_param (Float)\n",
      "{'default': 0.0001, 'conditions': [], 'min_value': 1e-05, 'max_value': 0.0002, 'step': None, 'sampling': 'log'}\n",
      "learning_rate (Float)\n",
      "{'default': 1e-05, 'conditions': [], 'min_value': 1e-05, 'max_value': 0.1, 'step': None, 'sampling': 'log'}\n"
     ]
    }
   ],
   "source": [
    "from kerastuner.tuners import RandomSearch\n",
    "\n",
    "# sample hyperparameter values from distribution specified in the build_model function\n",
    "\n",
    "tuner = RandomSearch(\n",
    "    build_model,\n",
    "    objective='val_loss',\n",
    "    max_trials=30,\n",
    "    executions_per_trial=3,\n",
    "    directory='denoiser_hyperop',\n",
    "    \n",
    "    # Experiment name must change if you modify\n",
    "    # the model structure or the set of hyperparameters.\n",
    "    project_name='autoencoder_04'\n",
    ")\n",
    "\n",
    "# display which hyperparameters are tunable and their respective distribution.\n",
    "tuner.search_space_summary()"
   ]
  },
  {
   "cell_type": "code",
   "execution_count": 17,
   "metadata": {},
   "outputs": [
    {
     "name": "stdout",
     "output_type": "stream",
     "text": [
      "Trial 30 Complete [00h 00m 56s]\n",
      "val_loss: 0.01841103285551071\n",
      "\n",
      "Best val_loss So Far: 0.006223892793059349\n",
      "Total elapsed time: 00h 29m 44s\n",
      "INFO:tensorflow:Oracle triggered exit\n"
     ]
    }
   ],
   "source": [
    "import numpy as np\n",
    "import tensorflow as tf\n",
    "np.random.seed(11)\n",
    "tf.random.set_seed(11)\n",
    "\n",
    "tuner.search(    \n",
    "    # all parameters here are passed thru to Model.fit\n",
    "    x=train_noisy_X, \n",
    "    y=train_clean_X, \n",
    "\n",
    "    epochs=10,\n",
    "    batch_size=128,\n",
    "    shuffle=True,\n",
    "    validation_data=(validate_noisy_X, validate_clean_X)\n",
    ")"
   ]
  },
  {
   "cell_type": "code",
   "execution_count": 18,
   "metadata": {},
   "outputs": [
    {
     "name": "stdout",
     "output_type": "stream",
     "text": [
      "Results summary\n",
      "Results in denoiser_hyperop/autoencoder_04\n",
      "Showing 10 best trials\n",
      "Objective(name='val_loss', direction='min')\n",
      "Trial summary\n",
      "Hyperparameters:\n",
      "encoder_width: 684\n",
      "activation: elu\n",
      "rglrz_param: 2.4826139634487908e-05\n",
      "learning_rate: 0.0012591788588148666\n",
      "Score: 0.006223892793059349\n",
      "Trial summary\n",
      "Hyperparameters:\n",
      "encoder_width: 1284\n",
      "activation: elu\n",
      "rglrz_param: 1.5153310206126008e-05\n",
      "learning_rate: 0.003431502896648394\n",
      "Score: 0.0064226531734069186\n",
      "Trial summary\n",
      "Hyperparameters:\n",
      "encoder_width: 484\n",
      "activation: elu\n",
      "rglrz_param: 2.807410277588932e-05\n",
      "learning_rate: 0.0030679870060080845\n",
      "Score: 0.006450296690066655\n",
      "Trial summary\n",
      "Hyperparameters:\n",
      "encoder_width: 1184\n",
      "activation: elu\n",
      "rglrz_param: 1.954656789779701e-05\n",
      "learning_rate: 0.00429989165670032\n",
      "Score: 0.007099082538237174\n",
      "Trial summary\n",
      "Hyperparameters:\n",
      "encoder_width: 284\n",
      "activation: relu\n",
      "rglrz_param: 2.736413822683945e-05\n",
      "learning_rate: 0.002105018859516814\n",
      "Score: 0.007186968966076772\n",
      "Trial summary\n",
      "Hyperparameters:\n",
      "encoder_width: 784\n",
      "activation: elu\n",
      "rglrz_param: 4.7330864536922814e-05\n",
      "learning_rate: 0.0020246419340776305\n",
      "Score: 0.007337957775841157\n",
      "Trial summary\n",
      "Hyperparameters:\n",
      "encoder_width: 584\n",
      "activation: relu\n",
      "rglrz_param: 3.275069658177494e-05\n",
      "learning_rate: 0.004342152098607671\n",
      "Score: 0.007424955256283283\n",
      "Trial summary\n",
      "Hyperparameters:\n",
      "encoder_width: 284\n",
      "activation: elu\n",
      "rglrz_param: 1.1006781861508562e-05\n",
      "learning_rate: 0.00023743910876636274\n",
      "Score: 0.008113224680225054\n",
      "Trial summary\n",
      "Hyperparameters:\n",
      "encoder_width: 484\n",
      "activation: relu\n",
      "rglrz_param: 1.830056364357821e-05\n",
      "learning_rate: 0.013080943335802573\n",
      "Score: 0.0087339219947656\n",
      "Trial summary\n",
      "Hyperparameters:\n",
      "encoder_width: 584\n",
      "activation: elu\n",
      "rglrz_param: 2.3783526906868874e-05\n",
      "learning_rate: 0.00021818889811617926\n",
      "Score: 0.008895843910674254\n"
     ]
    }
   ],
   "source": [
    "# view the search summary\n",
    "tuner.results_summary()"
   ]
  },
  {
   "cell_type": "code",
   "execution_count": 19,
   "metadata": {},
   "outputs": [
    {
     "data": {
      "text/html": [
       "<div>\n",
       "<style scoped>\n",
       "    .dataframe tbody tr th:only-of-type {\n",
       "        vertical-align: middle;\n",
       "    }\n",
       "\n",
       "    .dataframe tbody tr th {\n",
       "        vertical-align: top;\n",
       "    }\n",
       "\n",
       "    .dataframe thead th {\n",
       "        text-align: right;\n",
       "    }\n",
       "</style>\n",
       "<table border=\"1\" class=\"dataframe\">\n",
       "  <thead>\n",
       "    <tr style=\"text-align: right;\">\n",
       "      <th></th>\n",
       "      <th>score</th>\n",
       "      <th>encoder_width</th>\n",
       "      <th>activation</th>\n",
       "      <th>rglrz_param</th>\n",
       "      <th>learning_rate</th>\n",
       "    </tr>\n",
       "    <tr>\n",
       "      <th>trial_id</th>\n",
       "      <th></th>\n",
       "      <th></th>\n",
       "      <th></th>\n",
       "      <th></th>\n",
       "      <th></th>\n",
       "    </tr>\n",
       "  </thead>\n",
       "  <tbody>\n",
       "    <tr>\n",
       "      <th>765808b3725b99bdd8688e558d78c179</th>\n",
       "      <td>0.006224</td>\n",
       "      <td>684</td>\n",
       "      <td>elu</td>\n",
       "      <td>0.000025</td>\n",
       "      <td>0.001259</td>\n",
       "    </tr>\n",
       "    <tr>\n",
       "      <th>13996a5ee5804439ae4354e79af9eade</th>\n",
       "      <td>0.006423</td>\n",
       "      <td>1284</td>\n",
       "      <td>elu</td>\n",
       "      <td>0.000015</td>\n",
       "      <td>0.003432</td>\n",
       "    </tr>\n",
       "    <tr>\n",
       "      <th>b32ae6de4bb694c2e1e890b6ccc1a90d</th>\n",
       "      <td>0.006450</td>\n",
       "      <td>484</td>\n",
       "      <td>elu</td>\n",
       "      <td>0.000028</td>\n",
       "      <td>0.003068</td>\n",
       "    </tr>\n",
       "    <tr>\n",
       "      <th>9f5f9afa07b3e5acd8ab6a83f8d74ccb</th>\n",
       "      <td>0.007099</td>\n",
       "      <td>1184</td>\n",
       "      <td>elu</td>\n",
       "      <td>0.000020</td>\n",
       "      <td>0.004300</td>\n",
       "    </tr>\n",
       "    <tr>\n",
       "      <th>f9a2a830c2202353c3b27c796f2f082d</th>\n",
       "      <td>0.007187</td>\n",
       "      <td>284</td>\n",
       "      <td>relu</td>\n",
       "      <td>0.000027</td>\n",
       "      <td>0.002105</td>\n",
       "    </tr>\n",
       "    <tr>\n",
       "      <th>87cccbb40fab866155552f328de81334</th>\n",
       "      <td>0.007338</td>\n",
       "      <td>784</td>\n",
       "      <td>elu</td>\n",
       "      <td>0.000047</td>\n",
       "      <td>0.002025</td>\n",
       "    </tr>\n",
       "    <tr>\n",
       "      <th>77435afc0997c87a82bf53d7ccc2eab1</th>\n",
       "      <td>0.007425</td>\n",
       "      <td>584</td>\n",
       "      <td>relu</td>\n",
       "      <td>0.000033</td>\n",
       "      <td>0.004342</td>\n",
       "    </tr>\n",
       "    <tr>\n",
       "      <th>37b71a24d835966c4b1e836f7c018fa8</th>\n",
       "      <td>0.008113</td>\n",
       "      <td>284</td>\n",
       "      <td>elu</td>\n",
       "      <td>0.000011</td>\n",
       "      <td>0.000237</td>\n",
       "    </tr>\n",
       "    <tr>\n",
       "      <th>639926eb4a67ccb2aba173a7ab423129</th>\n",
       "      <td>0.008734</td>\n",
       "      <td>484</td>\n",
       "      <td>relu</td>\n",
       "      <td>0.000018</td>\n",
       "      <td>0.013081</td>\n",
       "    </tr>\n",
       "    <tr>\n",
       "      <th>ada3a1903a23157638a803d1e471aef8</th>\n",
       "      <td>0.008896</td>\n",
       "      <td>584</td>\n",
       "      <td>elu</td>\n",
       "      <td>0.000024</td>\n",
       "      <td>0.000218</td>\n",
       "    </tr>\n",
       "  </tbody>\n",
       "</table>\n",
       "</div>"
      ],
      "text/plain": [
       "                                     score  encoder_width activation  \\\n",
       "trial_id                                                               \n",
       "765808b3725b99bdd8688e558d78c179  0.006224            684        elu   \n",
       "13996a5ee5804439ae4354e79af9eade  0.006423           1284        elu   \n",
       "b32ae6de4bb694c2e1e890b6ccc1a90d  0.006450            484        elu   \n",
       "9f5f9afa07b3e5acd8ab6a83f8d74ccb  0.007099           1184        elu   \n",
       "f9a2a830c2202353c3b27c796f2f082d  0.007187            284       relu   \n",
       "87cccbb40fab866155552f328de81334  0.007338            784        elu   \n",
       "77435afc0997c87a82bf53d7ccc2eab1  0.007425            584       relu   \n",
       "37b71a24d835966c4b1e836f7c018fa8  0.008113            284        elu   \n",
       "639926eb4a67ccb2aba173a7ab423129  0.008734            484       relu   \n",
       "ada3a1903a23157638a803d1e471aef8  0.008896            584        elu   \n",
       "\n",
       "                                  rglrz_param  learning_rate  \n",
       "trial_id                                                      \n",
       "765808b3725b99bdd8688e558d78c179     0.000025       0.001259  \n",
       "13996a5ee5804439ae4354e79af9eade     0.000015       0.003432  \n",
       "b32ae6de4bb694c2e1e890b6ccc1a90d     0.000028       0.003068  \n",
       "9f5f9afa07b3e5acd8ab6a83f8d74ccb     0.000020       0.004300  \n",
       "f9a2a830c2202353c3b27c796f2f082d     0.000027       0.002105  \n",
       "87cccbb40fab866155552f328de81334     0.000047       0.002025  \n",
       "77435afc0997c87a82bf53d7ccc2eab1     0.000033       0.004342  \n",
       "37b71a24d835966c4b1e836f7c018fa8     0.000011       0.000237  \n",
       "639926eb4a67ccb2aba173a7ab423129     0.000018       0.013081  \n",
       "ada3a1903a23157638a803d1e471aef8     0.000024       0.000218  "
      ]
     },
     "execution_count": 19,
     "metadata": {},
     "output_type": "execute_result"
    }
   ],
   "source": [
    "# use the tuner's oracle property can be used to fetch information about every trial\n",
    "\n",
    "pd.DataFrame([\n",
    "    {\n",
    "        'trial_id': t.trial_id,\n",
    "        'score': t.score,\n",
    "        **t.hyperparameters.values \n",
    "    }\n",
    "    for t in tuner.oracle.get_best_trials(num_trials=10)\n",
    "]).set_index('trial_id')"
   ]
  },
  {
   "cell_type": "code",
   "execution_count": 20,
   "metadata": {},
   "outputs": [],
   "source": [
    "# returns the best model found during the search\n",
    "autoencoder = tuner.get_best_models(num_models=1)[0]"
   ]
  },
  {
   "cell_type": "code",
   "execution_count": 21,
   "metadata": {},
   "outputs": [
    {
     "data": {
      "text/plain": [
       "{'encoder_width': 684,\n",
       " 'activation': 'elu',\n",
       " 'rglrz_param': 2.4826139634487908e-05,\n",
       " 'learning_rate': 0.0012591788588148666}"
      ]
     },
     "execution_count": 21,
     "metadata": {},
     "output_type": "execute_result"
    }
   ],
   "source": [
    "# display best hyperparameters\n",
    "best_hyperparameters = tuner.get_best_hyperparameters()[0]\n",
    "best_hyperparameters.values"
   ]
  },
  {
   "cell_type": "code",
   "execution_count": 22,
   "metadata": {},
   "outputs": [
    {
     "name": "stdout",
     "output_type": "stream",
     "text": [
      "Epoch 1/300\n",
      "WARNING:tensorflow:Unresolved object in checkpoint: (root).optimizer.iter\n",
      "WARNING:tensorflow:Unresolved object in checkpoint: (root).optimizer.beta_1\n",
      "WARNING:tensorflow:Unresolved object in checkpoint: (root).optimizer.beta_2\n",
      "WARNING:tensorflow:Unresolved object in checkpoint: (root).optimizer.decay\n",
      "WARNING:tensorflow:Unresolved object in checkpoint: (root).optimizer.learning_rate\n",
      "WARNING:tensorflow:A checkpoint was restored (e.g. tf.train.Checkpoint.restore or tf.keras.Model.load_weights) but not all checkpointed values were used. See above for specific issues. Use expect_partial() on the load status object, e.g. tf.train.Checkpoint.restore(...).expect_partial(), to silence these warnings, or use assert_consumed() to make the check explicit. See https://www.tensorflow.org/guide/checkpoint#loading_mechanics for details.\n",
      "383/383 [==============================] - 2s 5ms/step - loss: 0.0272 - val_loss: 0.0133\n",
      "Epoch 2/300\n",
      "383/383 [==============================] - 2s 5ms/step - loss: 0.0114 - val_loss: 0.0102\n",
      "Epoch 3/300\n",
      "383/383 [==============================] - 2s 5ms/step - loss: 0.0093 - val_loss: 0.0089\n",
      "Epoch 4/300\n",
      "383/383 [==============================] - 2s 5ms/step - loss: 0.0083 - val_loss: 0.0080\n",
      "Epoch 5/300\n",
      "383/383 [==============================] - 2s 5ms/step - loss: 0.0077 - val_loss: 0.0075\n",
      "Epoch 6/300\n",
      "383/383 [==============================] - 2s 5ms/step - loss: 0.0072 - val_loss: 0.0072\n",
      "Epoch 7/300\n",
      "383/383 [==============================] - 2s 5ms/step - loss: 0.0068 - val_loss: 0.0069\n",
      "Epoch 8/300\n",
      "383/383 [==============================] - 2s 5ms/step - loss: 0.0065 - val_loss: 0.0066\n",
      "Epoch 9/300\n",
      "383/383 [==============================] - 2s 5ms/step - loss: 0.0063 - val_loss: 0.0064\n",
      "Epoch 10/300\n",
      "383/383 [==============================] - 3s 7ms/step - loss: 0.0061 - val_loss: 0.0063\n",
      "Epoch 11/300\n",
      "383/383 [==============================] - 2s 5ms/step - loss: 0.0059 - val_loss: 0.0060\n",
      "Epoch 12/300\n",
      "383/383 [==============================] - 2s 5ms/step - loss: 0.0058 - val_loss: 0.0061\n",
      "Epoch 13/300\n",
      "383/383 [==============================] - 2s 5ms/step - loss: 0.0057 - val_loss: 0.0059\n",
      "Epoch 14/300\n",
      "383/383 [==============================] - 2s 5ms/step - loss: 0.0056 - val_loss: 0.0058\n",
      "Epoch 15/300\n",
      "383/383 [==============================] - 2s 5ms/step - loss: 0.0055 - val_loss: 0.0057\n",
      "Epoch 16/300\n",
      "383/383 [==============================] - 2s 5ms/step - loss: 0.0055 - val_loss: 0.0059\n",
      "Epoch 17/300\n",
      "383/383 [==============================] - 2s 5ms/step - loss: 0.0054 - val_loss: 0.0056\n",
      "Epoch 18/300\n",
      "383/383 [==============================] - 2s 5ms/step - loss: 0.0053 - val_loss: 0.0055\n",
      "Epoch 19/300\n",
      "383/383 [==============================] - 2s 5ms/step - loss: 0.0053 - val_loss: 0.0056\n",
      "Epoch 20/300\n",
      "383/383 [==============================] - 2s 5ms/step - loss: 0.0052 - val_loss: 0.0055\n",
      "Epoch 21/300\n",
      "383/383 [==============================] - 2s 4ms/step - loss: 0.0052 - val_loss: 0.0054\n",
      "Epoch 22/300\n",
      "383/383 [==============================] - 2s 5ms/step - loss: 0.0052 - val_loss: 0.0054\n",
      "Epoch 23/300\n",
      "383/383 [==============================] - 2s 5ms/step - loss: 0.0051 - val_loss: 0.0054\n",
      "Epoch 24/300\n",
      "383/383 [==============================] - 2s 5ms/step - loss: 0.0051 - val_loss: 0.0053\n",
      "Epoch 25/300\n",
      "383/383 [==============================] - 2s 4ms/step - loss: 0.0051 - val_loss: 0.0054\n",
      "Epoch 26/300\n",
      "383/383 [==============================] - 2s 5ms/step - loss: 0.0051 - val_loss: 0.0053\n",
      "Epoch 27/300\n",
      "383/383 [==============================] - 2s 5ms/step - loss: 0.0050 - val_loss: 0.0053\n",
      "Epoch 28/300\n",
      "383/383 [==============================] - 2s 5ms/step - loss: 0.0050 - val_loss: 0.0054\n",
      "Epoch 29/300\n",
      "383/383 [==============================] - 2s 4ms/step - loss: 0.0050 - val_loss: 0.0053\n",
      "Epoch 30/300\n",
      "383/383 [==============================] - 2s 5ms/step - loss: 0.0050 - val_loss: 0.0052\n",
      "Epoch 31/300\n",
      "383/383 [==============================] - 2s 4ms/step - loss: 0.0050 - val_loss: 0.0053\n",
      "Epoch 32/300\n",
      "383/383 [==============================] - 2s 5ms/step - loss: 0.0049 - val_loss: 0.0052\n",
      "Epoch 33/300\n",
      "383/383 [==============================] - 2s 5ms/step - loss: 0.0049 - val_loss: 0.0052\n",
      "Epoch 34/300\n",
      "383/383 [==============================] - 2s 4ms/step - loss: 0.0049 - val_loss: 0.0052\n",
      "Epoch 35/300\n",
      "383/383 [==============================] - 2s 5ms/step - loss: 0.0049 - val_loss: 0.0052\n",
      "Epoch 36/300\n",
      "383/383 [==============================] - 2s 5ms/step - loss: 0.0049 - val_loss: 0.0052\n",
      "Epoch 37/300\n",
      "383/383 [==============================] - 2s 5ms/step - loss: 0.0049 - val_loss: 0.0052\n",
      "Epoch 38/300\n",
      "383/383 [==============================] - 2s 5ms/step - loss: 0.0049 - val_loss: 0.0052\n",
      "Epoch 39/300\n",
      "383/383 [==============================] - 2s 5ms/step - loss: 0.0049 - val_loss: 0.0051\n",
      "Epoch 40/300\n",
      "383/383 [==============================] - 2s 5ms/step - loss: 0.0048 - val_loss: 0.0051\n",
      "Epoch 41/300\n",
      "383/383 [==============================] - 2s 5ms/step - loss: 0.0048 - val_loss: 0.0051\n",
      "Epoch 42/300\n",
      "383/383 [==============================] - 2s 5ms/step - loss: 0.0048 - val_loss: 0.0051\n",
      "Epoch 43/300\n",
      "383/383 [==============================] - 2s 5ms/step - loss: 0.0048 - val_loss: 0.0051\n",
      "Epoch 44/300\n",
      "383/383 [==============================] - 2s 4ms/step - loss: 0.0048 - val_loss: 0.0051\n",
      "Epoch 45/300\n",
      "383/383 [==============================] - 2s 5ms/step - loss: 0.0048 - val_loss: 0.0051\n",
      "Epoch 46/300\n",
      "383/383 [==============================] - 2s 4ms/step - loss: 0.0048 - val_loss: 0.0051\n",
      "Epoch 47/300\n",
      "383/383 [==============================] - 2s 5ms/step - loss: 0.0048 - val_loss: 0.0051\n",
      "Epoch 48/300\n",
      "383/383 [==============================] - 2s 5ms/step - loss: 0.0048 - val_loss: 0.0051\n"
     ]
    }
   ],
   "source": [
    "# FINAL TRAINING PASS WITH OPTIMAL HYPERPARAMETERS\n",
    "\n",
    "np.random.seed(11)\n",
    "tf.random.set_seed(11)\n",
    "\n",
    "hp = HyperParameters()\n",
    "\n",
    "hp.Fixed('encoder_width', value=684)\n",
    "hp.Fixed('activation', value='elu')\n",
    "hp.Fixed('rglrz_param', value=2.4826139634487908e-05)\n",
    "hp.Fixed('learning_rate', value=0.0012591788588148666)\n",
    "\n",
    "autoencoder = build_model(hp)\n",
    "history = train_model(autoencoder, epochs=300)"
   ]
  },
  {
   "cell_type": "code",
   "execution_count": 23,
   "metadata": {},
   "outputs": [],
   "source": [
    "# now we can feed the noisy images into the autoencoder\n",
    "train_denoised_X = autoencoder.predict(train_noisy_X)\n",
    "\n",
    "# keras returns back a numpy array, but we need pandas dataframe,\n",
    "# so let's quickly put the denoised images into a dataframe\n",
    "train_denoised_X = pd.DataFrame(train_denoised_X)"
   ]
  },
  {
   "cell_type": "code",
   "execution_count": 24,
   "metadata": {},
   "outputs": [
    {
     "data": {
      "image/png": "[encoded data removed]",
      "text/plain": [
       "<Figure size 432x288 with 1 Axes>"
      ]
     },
     "metadata": {
      "image/png": {
       "height": 248,
       "width": 251
      },
      "needs_background": "light"
     },
     "output_type": "display_data"
    }
   ],
   "source": [
    "# confirm that the denoiser works\n",
    "image_pixels = train_denoised_X.iloc[example_id]\n",
    "\n",
    "# to plot an image, need to reshape the array into a 28x28 grid.\n",
    "image_pixels = image_pixels.values.reshape(28, 28)\n",
    "\n",
    "plt.imshow(image_pixels, cmap='binary')\n",
    "plt.show()"
   ]
  },
  {
   "cell_type": "code",
   "execution_count": 25,
   "metadata": {},
   "outputs": [
    {
     "name": "stdout",
     "output_type": "stream",
     "text": [
      "0.0031937542\n",
      "0.0036333748\n"
     ]
    }
   ],
   "source": [
    "from sklearn.metrics import mean_squared_error\n",
    "\n",
    "# calcualate MSE on train clean against train denoised\n",
    "print(mean_squared_error(train_denoised_X, train_clean_X))\n",
    "\n",
    "# calcualates MSE on test clean against test denoised\n",
    "test_denoised_X = autoencoder.predict(test_noisy_X)\n",
    "test_denoised_X = pd.DataFrame(test_denoised_X)\n",
    "print(mean_squared_error(test_denoised_X, test_clean_X))"
   ]
  },
  {
   "cell_type": "markdown",
   "metadata": {},
   "source": [
    "A noisy image from the test dataset:"
   ]
  },
  {
   "cell_type": "code",
   "execution_count": 26,
   "metadata": {},
   "outputs": [
    {
     "data": {
      "text/plain": [
       "<matplotlib.image.AxesImage at 0x7fb29c620ca0>"
      ]
     },
     "execution_count": 26,
     "metadata": {},
     "output_type": "execute_result"
    },
    {
     "data": {
      "image/png": "[encoded data removed]",
      "text/plain": [
       "<Figure size 432x288 with 1 Axes>"
      ]
     },
     "metadata": {
      "image/png": {
       "height": 248,
       "width": 251
      },
      "needs_background": "light"
     },
     "output_type": "display_data"
    }
   ],
   "source": [
    "image_pixels = test_noisy_X.iloc[example_id]\n",
    "image_pixels = image_pixels.values.reshape(28, 28)\n",
    "\n",
    "plt.imshow(image_pixels, cmap='binary')"
   ]
  },
  {
   "cell_type": "markdown",
   "metadata": {},
   "source": [
    "The same clean image from the test dataset:"
   ]
  },
  {
   "cell_type": "code",
   "execution_count": 27,
   "metadata": {},
   "outputs": [
    {
     "data": {
      "text/plain": [
       "<matplotlib.image.AxesImage at 0x7fb29c5aaeb0>"
      ]
     },
     "execution_count": 27,
     "metadata": {},
     "output_type": "execute_result"
    },
    {
     "data": {
      "image/png": "[encoded data removed]",
      "text/plain": [
       "<Figure size 432x288 with 1 Axes>"
      ]
     },
     "metadata": {
      "image/png": {
       "height": 248,
       "width": 251
      },
      "needs_background": "light"
     },
     "output_type": "display_data"
    }
   ],
   "source": [
    "image_pixels = test_clean_X.iloc[example_id]\n",
    "image_pixels = image_pixels.values.reshape(28, 28)\n",
    "\n",
    "plt.imshow(image_pixels, cmap='binary')"
   ]
  },
  {
   "cell_type": "markdown",
   "metadata": {},
   "source": [
    "The same denoised image from the test dataset:"
   ]
  },
  {
   "cell_type": "code",
   "execution_count": 28,
   "metadata": {},
   "outputs": [
    {
     "data": {
      "text/plain": [
       "<matplotlib.image.AxesImage at 0x7fb29c4c82b0>"
      ]
     },
     "execution_count": 28,
     "metadata": {},
     "output_type": "execute_result"
    },
    {
     "data": {
      "image/png": "[encoded data removed]",
      "text/plain": [
       "<Figure size 432x288 with 1 Axes>"
      ]
     },
     "metadata": {
      "image/png": {
       "height": 248,
       "width": 251
      },
      "needs_background": "light"
     },
     "output_type": "display_data"
    }
   ],
   "source": [
    "image_pixels = test_denoised_X.iloc[example_id]\n",
    "image_pixels = image_pixels.values.reshape(28, 28)\n",
    "\n",
    "plt.imshow(image_pixels, cmap='binary')"
   ]
  },
  {
   "cell_type": "code",
   "execution_count": 29,
   "metadata": {},
   "outputs": [],
   "source": [
    "# Once you have finished building your model and are satisfied with your results,\n",
    "# run the code below to save the files necessary for submission.\n",
    "\n",
    "import os \n",
    "\n",
    "model_dir = 'denoiser_model'\n",
    "\n",
    "os.makedirs(model_dir, exist_ok=True)\n",
    "\n",
    "# Once you are ready to make the graded submission,\n",
    "# run the autoencoder on the score noisy dataset.\n",
    "score_denoised_X = pd.DataFrame(\n",
    "    autoencoder.predict(score_noisy_X),\n",
    "    # This is needed to save the file in Parquet format.\n",
    "    columns=score_noisy_X.columns\n",
    ")\n",
    "\n",
    "# Now save it to disc as a Parquet file.\n",
    "score_denoised_X.to_parquet(f'{model_dir}/score_denoised_x.parquet')\n",
    "\n",
    "# Next, let's save the model's definition.\n",
    "import json\n",
    "with open(f'{model_dir}/keras_model.json', 'w') as f:\n",
    "    f.write(json.dumps(json.loads(autoencoder.to_json()), indent=True))\n",
    "\n",
    "# Finally, let's save the learned parameters.\n",
    "autoencoder.save_weights(f'{model_dir}/keras_parameters.h5')\n",
    "\n",
    "# You now have the following files to be uploaded to Moodle:\n",
    "# 1. This notebook and any other Python code you used to train the final model.\n",
    "# 2. keras_model.json -- the model's definition\n",
    "# 3. keras_parameters.json -- the model's trained parameters\n",
    "# 4. score_denoised_X.parquet - the model's output on the score dataset"
   ]
  }
 ],
 "metadata": {
  "kernelspec": {
   "display_name": "Python 3",
   "language": "python",
   "name": "python3"
  },
  "language_info": {
   "codemirror_mode": {
    "name": "ipython",
    "version": 3
   },
   "file_extension": ".py",
   "mimetype": "text/x-python",
   "name": "python",
   "nbconvert_exporter": "python",
   "pygments_lexer": "ipython3",
   "version": "3.7.10"
  }
 },
 "nbformat": 4,
 "nbformat_minor": 4
}
